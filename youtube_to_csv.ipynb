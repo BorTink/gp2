{
 "cells": [
  {
   "cell_type": "code",
   "execution_count": 4,
   "metadata": {},
   "outputs": [
    {
     "data": {
      "text/plain": [
       "<module 'API.YouTubeGetter' from 'd:\\\\HSE\\\\СМАДИМО\\\\gp2_github\\\\API\\\\YouTubeGetter.py'>"
      ]
     },
     "execution_count": 4,
     "metadata": {},
     "output_type": "execute_result"
    }
   ],
   "source": [
    "import pandas as pd\n",
    "from importlib import reload\n",
    "import  API.YouTubeGetter as ytg\n",
    "reload(ytg)"
   ]
  },
  {
   "cell_type": "code",
   "execution_count": null,
   "metadata": {},
   "outputs": [
    {
     "name": "stderr",
     "output_type": "stream",
     "text": [
      "2025-03-03 16:03:02,461 - INFO - progress: 9%\n"
     ]
    }
   ],
   "source": [
    "yg = ytg.YouTubeGetter()"
   ]
  },
  {
   "cell_type": "code",
   "execution_count": 3,
   "metadata": {},
   "outputs": [
    {
     "ename": "NameError",
     "evalue": "name 'yg' is not defined",
     "output_type": "error",
     "traceback": [
      "\u001b[1;31m---------------------------------------------------------------------------\u001b[0m",
      "\u001b[1;31mNameError\u001b[0m                                 Traceback (most recent call last)",
      "Cell \u001b[1;32mIn[3], line 1\u001b[0m\n\u001b[1;32m----> 1\u001b[0m videos_api \u001b[38;5;241m=\u001b[39m \u001b[43myg\u001b[49m\u001b[38;5;241m.\u001b[39mget_videos()\n\u001b[0;32m      2\u001b[0m channels_api \u001b[38;5;241m=\u001b[39m yg\u001b[38;5;241m.\u001b[39mget_channels()\n\u001b[0;32m      3\u001b[0m categories_api \u001b[38;5;241m=\u001b[39m yg\u001b[38;5;241m.\u001b[39mget_categories()\n",
      "\u001b[1;31mNameError\u001b[0m: name 'yg' is not defined"
     ]
    }
   ],
   "source": [
    "videos_api = yg.get_videos()\n",
    "channels_api = yg.get_channels()\n",
    "categories_api = yg.get_categories()\n",
    "top_level_comments_api = yg.get_comment_threads()\n",
    "playlists_cnt_api = yg.get_playlists_cnt()"
   ]
  },
  {
   "cell_type": "code",
   "execution_count": null,
   "metadata": {},
   "outputs": [],
   "source": [
    "vid_info = []"
   ]
  },
  {
   "cell_type": "code",
   "execution_count": null,
   "metadata": {},
   "outputs": [],
   "source": [
    "for cc in videos_api.keys():\n",
    "    for vid_1 in videos_api[cc]:\n",
    "        for vid_2 in vid_1:\n",
    "            snippet = vid_2.get('snippet')\n",
    "            statistics = vid_2.get('statistics')\n",
    "            data = [    vid_2.get(\"id\"),\n",
    "                        snippet.get('publishedAt'),\n",
    "                        snippet.get('channelId'),\n",
    "                        snippet.get('title'),\n",
    "                        snippet.get('description'),\n",
    "                        snippet.get('channelTitle'),\n",
    "                        snippet.get('tags'),\n",
    "                        snippet.get('categoryId'),\n",
    "                        snippet.get('defaultAudioLanguage'),\n",
    "                        statistics.get('viewCount'),\n",
    "                        statistics.get('likeCount'),\n",
    "                        statistics.get('commentCount')]\n",
    "            vid_info.append(data)"
   ]
  },
  {
   "cell_type": "code",
   "execution_count": null,
   "metadata": {},
   "outputs": [],
   "source": [
    "videos = pd.DataFrame(vid_info, \n",
    "                      columns = ['id','publishedAt', \n",
    "                                 'channelId', \n",
    "                                 'title', \n",
    "                                 'description',\n",
    "                                 'channelTitle',\n",
    "                                 'tags',\n",
    "                                 'categoryId',\n",
    "                                 'defaultAudioLanguage',\n",
    "                                 'viewCount',\n",
    "                                 'likeCount',\n",
    "                                 'commentCount'])"
   ]
  },
  {
   "cell_type": "code",
   "execution_count": null,
   "metadata": {},
   "outputs": [],
   "source": [
    "videos = videos.drop_duplicates('id')"
   ]
  },
  {
   "cell_type": "code",
   "execution_count": null,
   "metadata": {},
   "outputs": [],
   "source": [
    "ch_info = []"
   ]
  },
  {
   "cell_type": "code",
   "execution_count": null,
   "metadata": {},
   "outputs": [],
   "source": [
    "for ch_1 in channels_api:\n",
    "    for ch_2 in ch_1:\n",
    "        snippet = ch_2.get('snippet')\n",
    "        statistics = ch_2.get('statistics')\n",
    "        data = [ch_2.get(\"id\"),\n",
    "                    snippet.get('title'),\n",
    "                    snippet.get('description'),\n",
    "                    snippet.get('customUrl'),\n",
    "                    snippet.get('publishedAt'),\n",
    "                    snippet.get('defaultLanguage'),\n",
    "                    statistics.get('viewCount'),\n",
    "                    statistics.get('subscriberCount'),\n",
    "                    statistics.get('videoCount'),\n",
    "                    snippet.get('country')]\n",
    "        ch_info.append(data)"
   ]
  },
  {
   "cell_type": "code",
   "execution_count": null,
   "metadata": {},
   "outputs": [],
   "source": [
    "channels = pd.DataFrame(ch_info, columns = ['id','title','description','customUrl','publishedAt','defaultLanguage','viewCount','subscriberCount','videoCount','country'])"
   ]
  },
  {
   "cell_type": "code",
   "execution_count": null,
   "metadata": {},
   "outputs": [],
   "source": [
    "channels = channels.drop_duplicates('id')"
   ]
  },
  {
   "cell_type": "code",
   "execution_count": null,
   "metadata": {},
   "outputs": [],
   "source": [
    "df_full = videos.merge(channels, how = 'left', left_on = 'channelId', right_on = 'id', suffixes=['_vid', '_ch'])"
   ]
  },
  {
   "cell_type": "code",
   "execution_count": null,
   "metadata": {},
   "outputs": [],
   "source": [
    "df_full.to_csv('youtube_videos_data.csv')"
   ]
  }
 ],
 "metadata": {
  "kernelspec": {
   "display_name": "Python 3",
   "language": "python",
   "name": "python3"
  },
  "language_info": {
   "codemirror_mode": {
    "name": "ipython",
    "version": 3
   },
   "file_extension": ".py",
   "mimetype": "text/x-python",
   "name": "python",
   "nbconvert_exporter": "python",
   "pygments_lexer": "ipython3",
   "version": "3.12.1"
  }
 },
 "nbformat": 4,
 "nbformat_minor": 2
}
