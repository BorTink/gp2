{
 "cells": [
  {
   "cell_type": "code",
   "execution_count": 117,
   "id": "2e1b3ee8",
   "metadata": {},
   "outputs": [],
   "source": [
    "import os\n",
    "import pandas as pd\n",
    "import logging\n",
    "\n",
    "logger = logging.getLogger(__name__)\n",
    "logging.basicConfig(level=logging.INFO, format='%(asctime)s - %(levelname)s - %(message)s')\n",
    "\n",
    "# Получаем путь к scrapped_videos_csv\n",
    "current_directory = os.getcwd()\n",
    "\n",
    "directory = current_directory + '\\Scrapped_videos_csv'"
   ]
  },
  {
   "cell_type": "markdown",
   "id": "b59f540e",
   "metadata": {},
   "source": [
    "## EDA"
   ]
  },
  {
   "cell_type": "markdown",
   "id": "92351555",
   "metadata": {},
   "source": [
    "Итак, приступим к осмотру нашего датасета. В первую очередь поймем, какие столбцы нам точно не понадобятся в дальнейшем.  \n",
    "Можно убрать video_id, video_title, channel_id, channel_name, channel_description, description, как незначительные признаки."
   ]
  },
  {
   "cell_type": "code",
   "execution_count": 120,
   "id": "f7240889",
   "metadata": {},
   "outputs": [],
   "source": [
    "df = pd.read_csv(directory + '\\\\' + 'all_videos_data_no_duplicates.csv')\n",
    "df_cleaned = df_no_duplicates.drop(columns=['video_id', 'video_title', 'channel_id', 'channel_name', 'channel_description', 'description'])"
   ]
  },
  {
   "cell_type": "markdown",
   "id": "93927e8f",
   "metadata": {},
   "source": [
    "Далее посмотрим на пропуски в наших данных"
   ]
  },
  {
   "cell_type": "code",
   "execution_count": 121,
   "id": "7f432ef9",
   "metadata": {},
   "outputs": [
    {
     "data": {
      "text/plain": [
       "published_at         0\n",
       "views                0\n",
       "likes             2139\n",
       "comments          2035\n",
       "category             5\n",
       "subscribers        231\n",
       "videos_count       231\n",
       "source               0\n",
       "comments_likes    6219\n",
       "tags              7831\n",
       "dtype: int64"
      ]
     },
     "execution_count": 121,
     "metadata": {},
     "output_type": "execute_result"
    }
   ],
   "source": [
    "df_cleaned.isna().sum()"
   ]
  },
  {
   "cell_type": "markdown",
   "id": "9f6b4269",
   "metadata": {},
   "source": [
    "У нас есть одинаковое кол-во пропусков в полях subscribers и videos_count. Посмотрим на эти строки"
   ]
  },
  {
   "cell_type": "code",
   "execution_count": 122,
   "id": "a6e6d683",
   "metadata": {},
   "outputs": [
    {
     "data": {
      "text/html": [
       "<div>\n",
       "<style scoped>\n",
       "    .dataframe tbody tr th:only-of-type {\n",
       "        vertical-align: middle;\n",
       "    }\n",
       "\n",
       "    .dataframe tbody tr th {\n",
       "        vertical-align: top;\n",
       "    }\n",
       "\n",
       "    .dataframe thead th {\n",
       "        text-align: right;\n",
       "    }\n",
       "</style>\n",
       "<table border=\"1\" class=\"dataframe\">\n",
       "  <thead>\n",
       "    <tr style=\"text-align: right;\">\n",
       "      <th></th>\n",
       "      <th>published_at</th>\n",
       "      <th>views</th>\n",
       "      <th>likes</th>\n",
       "      <th>comments</th>\n",
       "      <th>category</th>\n",
       "      <th>subscribers</th>\n",
       "      <th>videos_count</th>\n",
       "      <th>source</th>\n",
       "      <th>comments_likes</th>\n",
       "      <th>tags</th>\n",
       "    </tr>\n",
       "  </thead>\n",
       "  <tbody>\n",
       "    <tr>\n",
       "      <th>100</th>\n",
       "      <td>2024-08-25T22:54:22</td>\n",
       "      <td>26097</td>\n",
       "      <td>2134.0</td>\n",
       "      <td>143.0</td>\n",
       "      <td>Разное</td>\n",
       "      <td>NaN</td>\n",
       "      <td>NaN</td>\n",
       "      <td>Rutube</td>\n",
       "      <td>NaN</td>\n",
       "      <td>NaN</td>\n",
       "    </tr>\n",
       "    <tr>\n",
       "      <th>869</th>\n",
       "      <td>2024-07-07T16:53:11</td>\n",
       "      <td>11422</td>\n",
       "      <td>963.0</td>\n",
       "      <td>45.0</td>\n",
       "      <td>Разное</td>\n",
       "      <td>NaN</td>\n",
       "      <td>NaN</td>\n",
       "      <td>Rutube</td>\n",
       "      <td>NaN</td>\n",
       "      <td>NaN</td>\n",
       "    </tr>\n",
       "    <tr>\n",
       "      <th>995</th>\n",
       "      <td>2024-06-30T18:57:11</td>\n",
       "      <td>12329</td>\n",
       "      <td>941.0</td>\n",
       "      <td>128.0</td>\n",
       "      <td>Разное</td>\n",
       "      <td>NaN</td>\n",
       "      <td>NaN</td>\n",
       "      <td>Rutube</td>\n",
       "      <td>NaN</td>\n",
       "      <td>NaN</td>\n",
       "    </tr>\n",
       "    <tr>\n",
       "      <th>1128</th>\n",
       "      <td>2024-06-23T10:00:02</td>\n",
       "      <td>44718</td>\n",
       "      <td>169.0</td>\n",
       "      <td>6.0</td>\n",
       "      <td>Обучение</td>\n",
       "      <td>NaN</td>\n",
       "      <td>NaN</td>\n",
       "      <td>Rutube</td>\n",
       "      <td>NaN</td>\n",
       "      <td>NaN</td>\n",
       "    </tr>\n",
       "    <tr>\n",
       "      <th>1465</th>\n",
       "      <td>2024-06-07T14:05:38</td>\n",
       "      <td>102806</td>\n",
       "      <td>660.0</td>\n",
       "      <td>392.0</td>\n",
       "      <td>ПМЭФ</td>\n",
       "      <td>NaN</td>\n",
       "      <td>NaN</td>\n",
       "      <td>Rutube</td>\n",
       "      <td>NaN</td>\n",
       "      <td>NaN</td>\n",
       "    </tr>\n",
       "    <tr>\n",
       "      <th>...</th>\n",
       "      <td>...</td>\n",
       "      <td>...</td>\n",
       "      <td>...</td>\n",
       "      <td>...</td>\n",
       "      <td>...</td>\n",
       "      <td>...</td>\n",
       "      <td>...</td>\n",
       "      <td>...</td>\n",
       "      <td>...</td>\n",
       "      <td>...</td>\n",
       "    </tr>\n",
       "    <tr>\n",
       "      <th>7884</th>\n",
       "      <td>2025-01-27T16:00:59</td>\n",
       "      <td>80398</td>\n",
       "      <td>NaN</td>\n",
       "      <td>NaN</td>\n",
       "      <td>Новости и СМИ</td>\n",
       "      <td>NaN</td>\n",
       "      <td>NaN</td>\n",
       "      <td>Rutube</td>\n",
       "      <td>NaN</td>\n",
       "      <td>NaN</td>\n",
       "    </tr>\n",
       "    <tr>\n",
       "      <th>7886</th>\n",
       "      <td>2025-01-26T12:00:29</td>\n",
       "      <td>11702</td>\n",
       "      <td>NaN</td>\n",
       "      <td>NaN</td>\n",
       "      <td>Психология</td>\n",
       "      <td>NaN</td>\n",
       "      <td>NaN</td>\n",
       "      <td>Rutube</td>\n",
       "      <td>NaN</td>\n",
       "      <td>NaN</td>\n",
       "    </tr>\n",
       "    <tr>\n",
       "      <th>7887</th>\n",
       "      <td>2025-01-27T10:00:57</td>\n",
       "      <td>64801</td>\n",
       "      <td>NaN</td>\n",
       "      <td>NaN</td>\n",
       "      <td>Развлечения</td>\n",
       "      <td>NaN</td>\n",
       "      <td>NaN</td>\n",
       "      <td>Rutube</td>\n",
       "      <td>NaN</td>\n",
       "      <td>NaN</td>\n",
       "    </tr>\n",
       "    <tr>\n",
       "      <th>7888</th>\n",
       "      <td>2025-01-27T18:23:06</td>\n",
       "      <td>46480</td>\n",
       "      <td>NaN</td>\n",
       "      <td>NaN</td>\n",
       "      <td>Телепередачи</td>\n",
       "      <td>NaN</td>\n",
       "      <td>NaN</td>\n",
       "      <td>Rutube</td>\n",
       "      <td>NaN</td>\n",
       "      <td>NaN</td>\n",
       "    </tr>\n",
       "    <tr>\n",
       "      <th>7889</th>\n",
       "      <td>2025-01-24T18:11:14</td>\n",
       "      <td>36532</td>\n",
       "      <td>NaN</td>\n",
       "      <td>NaN</td>\n",
       "      <td>Обзоры и распаковки товаров</td>\n",
       "      <td>NaN</td>\n",
       "      <td>NaN</td>\n",
       "      <td>Rutube</td>\n",
       "      <td>NaN</td>\n",
       "      <td>NaN</td>\n",
       "    </tr>\n",
       "  </tbody>\n",
       "</table>\n",
       "<p>231 rows × 10 columns</p>\n",
       "</div>"
      ],
      "text/plain": [
       "             published_at   views   likes  comments  \\\n",
       "100   2024-08-25T22:54:22   26097  2134.0     143.0   \n",
       "869   2024-07-07T16:53:11   11422   963.0      45.0   \n",
       "995   2024-06-30T18:57:11   12329   941.0     128.0   \n",
       "1128  2024-06-23T10:00:02   44718   169.0       6.0   \n",
       "1465  2024-06-07T14:05:38  102806   660.0     392.0   \n",
       "...                   ...     ...     ...       ...   \n",
       "7884  2025-01-27T16:00:59   80398     NaN       NaN   \n",
       "7886  2025-01-26T12:00:29   11702     NaN       NaN   \n",
       "7887  2025-01-27T10:00:57   64801     NaN       NaN   \n",
       "7888  2025-01-27T18:23:06   46480     NaN       NaN   \n",
       "7889  2025-01-24T18:11:14   36532     NaN       NaN   \n",
       "\n",
       "                         category subscribers videos_count  source  \\\n",
       "100                        Разное         NaN          NaN  Rutube   \n",
       "869                        Разное         NaN          NaN  Rutube   \n",
       "995                        Разное         NaN          NaN  Rutube   \n",
       "1128                     Обучение         NaN          NaN  Rutube   \n",
       "1465                         ПМЭФ         NaN          NaN  Rutube   \n",
       "...                           ...         ...          ...     ...   \n",
       "7884                Новости и СМИ         NaN          NaN  Rutube   \n",
       "7886                   Психология         NaN          NaN  Rutube   \n",
       "7887                  Развлечения         NaN          NaN  Rutube   \n",
       "7888                 Телепередачи         NaN          NaN  Rutube   \n",
       "7889  Обзоры и распаковки товаров         NaN          NaN  Rutube   \n",
       "\n",
       "     comments_likes tags  \n",
       "100             NaN  NaN  \n",
       "869             NaN  NaN  \n",
       "995             NaN  NaN  \n",
       "1128            NaN  NaN  \n",
       "1465            NaN  NaN  \n",
       "...             ...  ...  \n",
       "7884            NaN  NaN  \n",
       "7886            NaN  NaN  \n",
       "7887            NaN  NaN  \n",
       "7888            NaN  NaN  \n",
       "7889            NaN  NaN  \n",
       "\n",
       "[231 rows x 10 columns]"
      ]
     },
     "execution_count": 122,
     "metadata": {},
     "output_type": "execute_result"
    }
   ],
   "source": [
    "df_cleaned[(df_cleaned['subscribers'].isna()) & (df_cleaned['videos_count'].isna())]"
   ]
  },
  {
   "cell_type": "code",
   "execution_count": 123,
   "id": "8cc440f2",
   "metadata": {},
   "outputs": [
    {
     "data": {
      "text/plain": [
       "source\n",
       "Rutube    231\n",
       "dtype: int64"
      ]
     },
     "execution_count": 123,
     "metadata": {},
     "output_type": "execute_result"
    }
   ],
   "source": [
    "df_cleaned[(df_cleaned['subscribers'].isna()) & (df_cleaned['videos_count'].isna())].value_counts('source')"
   ]
  },
  {
   "cell_type": "markdown",
   "id": "67ed8e81",
   "metadata": {},
   "source": [
    "Как мы видим, там, где нет кол-ва подписчиков, там и нет кол-ва видео на канале. Причем все такие случаи на Rutube.  \n",
    "Вероятно это каналы, которые были удалены/скрыты и информация о них недоступна, хотя сами видео на площадке остались. Что-ж, такие у них правила.  \n",
    "Глобально, раз статистика по видео в таких строках доступна, то можем оставить такие строки и заполнить subscribers и videos_count средним значением по Rutube"
   ]
  },
  {
   "cell_type": "code",
   "execution_count": 124,
   "id": "f3965fc9",
   "metadata": {},
   "outputs": [],
   "source": [
    "df_cleaned_rutube = df_cleaned[df_cleaned['source'] == 'Rutube']\n",
    "\n",
    "df_cleaned['subscribers'] = df_cleaned['subscribers'].fillna(df_cleaned_rutube['subscribers'].mean())\n",
    "df_cleaned['videos_count'] = df_cleaned['videos_count'].fillna(df_cleaned_rutube['videos_count'].mean())"
   ]
  },
  {
   "cell_type": "code",
   "execution_count": 125,
   "id": "a515b7a5",
   "metadata": {},
   "outputs": [
    {
     "data": {
      "text/plain": [
       "published_at         0\n",
       "views                0\n",
       "likes             2139\n",
       "comments          2035\n",
       "category             5\n",
       "subscribers          0\n",
       "videos_count         0\n",
       "source               0\n",
       "comments_likes    6219\n",
       "tags              7831\n",
       "dtype: int64"
      ]
     },
     "execution_count": 125,
     "metadata": {},
     "output_type": "execute_result"
    }
   ],
   "source": [
    "df_cleaned.isna().sum()"
   ]
  },
  {
   "cell_type": "markdown",
   "id": "7e39d170",
   "metadata": {},
   "source": [
    "Далее рассмотрим пропуски в лайках и комментариях. Прежде всего увидим, на каких платформах такие пропуски более часты"
   ]
  },
  {
   "cell_type": "code",
   "execution_count": 126,
   "id": "186c79f4",
   "metadata": {},
   "outputs": [
    {
     "data": {
      "text/plain": [
       "source\n",
       "Rutube     2035\n",
       "Youtube     104\n",
       "dtype: int64"
      ]
     },
     "execution_count": 126,
     "metadata": {},
     "output_type": "execute_result"
    }
   ],
   "source": [
    "df_cleaned[df_cleaned['likes'].isna()].value_counts('source')"
   ]
  },
  {
   "cell_type": "code",
   "execution_count": 127,
   "id": "b5db314a",
   "metadata": {},
   "outputs": [
    {
     "data": {
      "text/plain": [
       "source\n",
       "Rutube    2035\n",
       "dtype: int64"
      ]
     },
     "execution_count": 127,
     "metadata": {},
     "output_type": "execute_result"
    }
   ],
   "source": [
    "df_cleaned[df_cleaned['comments'].isna()].value_counts('source')"
   ]
  },
  {
   "cell_type": "code",
   "execution_count": 128,
   "id": "ac86847e",
   "metadata": {},
   "outputs": [
    {
     "data": {
      "text/plain": [
       "source\n",
       "Rutube     6219\n",
       "Youtube    3141\n",
       "dtype: int64"
      ]
     },
     "execution_count": 128,
     "metadata": {},
     "output_type": "execute_result"
    }
   ],
   "source": [
    "df_cleaned.value_counts('source')"
   ]
  },
  {
   "cell_type": "code",
   "execution_count": 129,
   "id": "06851265",
   "metadata": {},
   "outputs": [
    {
     "data": {
      "text/plain": [
       "array(['Авто-мото', 'Новости и СМИ', 'Развлечения', 'Культура', 'Фильмы',\n",
       "       'Разное', 'Обучение', 'Телепередачи', 'Политика', 'Путешествия',\n",
       "       'Лайфстайл', 'Интервью', 'Животные', 'Аниме', 'Детям', 'Спорт',\n",
       "       'Сериалы', 'Юмор', 'Недвижимость', 'Психология', 'Еда',\n",
       "       'Видеоигры', 'Технологии и интернет',\n",
       "       'Бизнес и предпринимательство', 'Музыка', 'Наука',\n",
       "       'Обзоры и распаковки товаров', 'Эзотерика', 'Мультфильмы',\n",
       "       'Летник RUTUBE', 'Строительство и ремонт', 'Красота', 'Хобби',\n",
       "       'Техника и оборудование', 'Лайфхаки', 'Здоровье', 'Природа',\n",
       "       'Гид RUTUBE: города России', 'Сад и огород', 'Спецпроекты', 'ПМЭФ',\n",
       "       'Дизайн', '80 лет Великой Победе', 'Активность: «Контент-прорыв»',\n",
       "       'Аудиокниги', 'Акция «Весна на экране»',\n",
       "       'Акция «RUTUBE — это по любви»', 'Религия',\n",
       "       'Акция «2024 — встречай!»', 'Включи Новый год'], dtype=object)"
      ]
     },
     "execution_count": 129,
     "metadata": {},
     "output_type": "execute_result"
    }
   ],
   "source": [
    "df_cleaned[df_cleaned['source'] != 'Youtube']['category'].unique()"
   ]
  },
  {
   "cell_type": "code",
   "execution_count": 130,
   "id": "46d25a95",
   "metadata": {},
   "outputs": [
    {
     "data": {
      "text/plain": [
       "array(['Comedy', 'People & Blogs', 'Film & Animation', 'Sports',\n",
       "       'Science & Technology', 'News & Politics', 'Entertainment',\n",
       "       'Gaming', 'Music', 'Autos & Vehicles', 'Howto & Style',\n",
       "       'Education', 'Travel & Events', 'Pets & Animals', nan],\n",
       "      dtype=object)"
      ]
     },
     "execution_count": 130,
     "metadata": {},
     "output_type": "execute_result"
    }
   ],
   "source": [
    "df_cleaned[df_cleaned['source'] == 'Youtube']['category'].unique()"
   ]
  },
  {
   "cell_type": "code",
   "execution_count": null,
   "id": "a39fe2df",
   "metadata": {},
   "outputs": [],
   "source": []
  }
 ],
 "metadata": {
  "kernelspec": {
   "display_name": "Python 3 (ipykernel)",
   "language": "python",
   "name": "python3"
  },
  "language_info": {
   "codemirror_mode": {
    "name": "ipython",
    "version": 3
   },
   "file_extension": ".py",
   "mimetype": "text/x-python",
   "name": "python",
   "nbconvert_exporter": "python",
   "pygments_lexer": "ipython3",
   "version": "3.9.13"
  }
 },
 "nbformat": 4,
 "nbformat_minor": 5
}
