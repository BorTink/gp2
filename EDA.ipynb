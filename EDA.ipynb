{
 "cells": [
  {
   "cell_type": "code",
   "execution_count": 117,
   "id": "2e1b3ee8",
   "metadata": {},
   "outputs": [],
   "source": [
    "import os\n",
    "import pandas as pd\n",
    "import logging\n",
    "\n",
    "logger = logging.getLogger(__name__)\n",
    "logging.basicConfig(level=logging.INFO, format='%(asctime)s - %(levelname)s - %(message)s')\n",
    "\n",
    "# Получаем путь к scrapped_videos_csv\n",
    "current_directory = os.getcwd()\n",
    "\n",
    "directory = current_directory + '\\Scrapped_videos_csv'"
   ]
  },
  {
   "cell_type": "markdown",
   "id": "b59f540e",
   "metadata": {},
   "source": [
    "## EDA"
   ]
  },
  {
   "cell_type": "markdown",
   "id": "8d70799a",
   "metadata": {},
   "source": [
    "Итак, приступим к осмотру нашего датасета."
   ]
  },
  {
   "cell_type": "code",
   "execution_count": 156,
   "id": "eceed7a0",
   "metadata": {},
   "outputs": [],
   "source": [
    "df_cleaned = pd.read_csv(directory + '\\\\' + 'all_videos_data_no_duplicates.csv')"
   ]
  },
  {
   "cell_type": "markdown",
   "id": "93f9d39d",
   "metadata": {},
   "source": [
    "Рассмотрим вообще соотношение кол-ва данных с Rutube и Youtube"
   ]
  },
  {
   "cell_type": "code",
   "execution_count": 160,
   "id": "78abe8ee",
   "metadata": {},
   "outputs": [
    {
     "data": {
      "text/plain": [
       "Rutube     6219\n",
       "Youtube    3141\n",
       "Name: source, dtype: int64"
      ]
     },
     "execution_count": 160,
     "metadata": {},
     "output_type": "execute_result"
    }
   ],
   "source": [
    "df_cleaned['source'].value_counts()"
   ]
  },
  {
   "cell_type": "code",
   "execution_count": 161,
   "id": "f4a75d75",
   "metadata": {},
   "outputs": [
    {
     "data": {
      "text/plain": [
       "Rutube     0.664423\n",
       "Youtube    0.335577\n",
       "Name: source, dtype: float64"
      ]
     },
     "execution_count": 161,
     "metadata": {},
     "output_type": "execute_result"
    }
   ],
   "source": [
    "df_cleaned['source'].value_counts() / df_cleaned.shape[0]"
   ]
  },
  {
   "cell_type": "markdown",
   "id": "c628889b",
   "metadata": {},
   "source": [
    "Видим, что 66% данных взяты из rutube, а 33% - из youtube. Это важно помнить в дальнейшем анализе "
   ]
  },
  {
   "cell_type": "markdown",
   "id": "92351555",
   "metadata": {},
   "source": [
    "Далее поймем, какие столбцы нам точно не понадобятся в дальнейшем.  \n",
    "Можно убрать video_id, video_title, channel_id, channel_name, channel_description, description, как незначительные признаки."
   ]
  },
  {
   "cell_type": "code",
   "execution_count": 164,
   "id": "f7240889",
   "metadata": {},
   "outputs": [],
   "source": [
    "df_cleaned = df_cleaned.drop(columns=['video_id', 'video_title', 'channel_id', 'channel_name', 'channel_description', 'description'])"
   ]
  },
  {
   "cell_type": "markdown",
   "id": "93927e8f",
   "metadata": {},
   "source": [
    "Далее посмотрим на пропуски в наших данных"
   ]
  },
  {
   "cell_type": "code",
   "execution_count": 165,
   "id": "7f432ef9",
   "metadata": {},
   "outputs": [
    {
     "data": {
      "text/plain": [
       "published_at         0\n",
       "views                0\n",
       "likes             2139\n",
       "comments          2035\n",
       "category             5\n",
       "subscribers        231\n",
       "videos_count       231\n",
       "source               0\n",
       "comments_likes    6219\n",
       "tags              7831\n",
       "dtype: int64"
      ]
     },
     "execution_count": 165,
     "metadata": {},
     "output_type": "execute_result"
    }
   ],
   "source": [
    "df_cleaned.isna().sum()"
   ]
  },
  {
   "cell_type": "markdown",
   "id": "9f6b4269",
   "metadata": {},
   "source": [
    "У нас есть одинаковое кол-во пропусков в полях subscribers и videos_count. Посмотрим на эти строки"
   ]
  },
  {
   "cell_type": "code",
   "execution_count": 138,
   "id": "a6e6d683",
   "metadata": {},
   "outputs": [
    {
     "data": {
      "text/html": [
       "<div>\n",
       "<style scoped>\n",
       "    .dataframe tbody tr th:only-of-type {\n",
       "        vertical-align: middle;\n",
       "    }\n",
       "\n",
       "    .dataframe tbody tr th {\n",
       "        vertical-align: top;\n",
       "    }\n",
       "\n",
       "    .dataframe thead th {\n",
       "        text-align: right;\n",
       "    }\n",
       "</style>\n",
       "<table border=\"1\" class=\"dataframe\">\n",
       "  <thead>\n",
       "    <tr style=\"text-align: right;\">\n",
       "      <th></th>\n",
       "      <th>published_at</th>\n",
       "      <th>views</th>\n",
       "      <th>likes</th>\n",
       "      <th>comments</th>\n",
       "      <th>category</th>\n",
       "      <th>subscribers</th>\n",
       "      <th>videos_count</th>\n",
       "      <th>source</th>\n",
       "      <th>comments_likes</th>\n",
       "      <th>tags</th>\n",
       "    </tr>\n",
       "  </thead>\n",
       "  <tbody>\n",
       "    <tr>\n",
       "      <th>100</th>\n",
       "      <td>2024-08-25T22:54:22</td>\n",
       "      <td>26097</td>\n",
       "      <td>2134.0</td>\n",
       "      <td>143.0</td>\n",
       "      <td>Разное</td>\n",
       "      <td>NaN</td>\n",
       "      <td>NaN</td>\n",
       "      <td>Rutube</td>\n",
       "      <td>NaN</td>\n",
       "      <td>NaN</td>\n",
       "    </tr>\n",
       "    <tr>\n",
       "      <th>869</th>\n",
       "      <td>2024-07-07T16:53:11</td>\n",
       "      <td>11422</td>\n",
       "      <td>963.0</td>\n",
       "      <td>45.0</td>\n",
       "      <td>Разное</td>\n",
       "      <td>NaN</td>\n",
       "      <td>NaN</td>\n",
       "      <td>Rutube</td>\n",
       "      <td>NaN</td>\n",
       "      <td>NaN</td>\n",
       "    </tr>\n",
       "    <tr>\n",
       "      <th>995</th>\n",
       "      <td>2024-06-30T18:57:11</td>\n",
       "      <td>12329</td>\n",
       "      <td>941.0</td>\n",
       "      <td>128.0</td>\n",
       "      <td>Разное</td>\n",
       "      <td>NaN</td>\n",
       "      <td>NaN</td>\n",
       "      <td>Rutube</td>\n",
       "      <td>NaN</td>\n",
       "      <td>NaN</td>\n",
       "    </tr>\n",
       "    <tr>\n",
       "      <th>1128</th>\n",
       "      <td>2024-06-23T10:00:02</td>\n",
       "      <td>44718</td>\n",
       "      <td>169.0</td>\n",
       "      <td>6.0</td>\n",
       "      <td>Обучение</td>\n",
       "      <td>NaN</td>\n",
       "      <td>NaN</td>\n",
       "      <td>Rutube</td>\n",
       "      <td>NaN</td>\n",
       "      <td>NaN</td>\n",
       "    </tr>\n",
       "    <tr>\n",
       "      <th>1465</th>\n",
       "      <td>2024-06-07T14:05:38</td>\n",
       "      <td>102806</td>\n",
       "      <td>660.0</td>\n",
       "      <td>392.0</td>\n",
       "      <td>ПМЭФ</td>\n",
       "      <td>NaN</td>\n",
       "      <td>NaN</td>\n",
       "      <td>Rutube</td>\n",
       "      <td>NaN</td>\n",
       "      <td>NaN</td>\n",
       "    </tr>\n",
       "    <tr>\n",
       "      <th>...</th>\n",
       "      <td>...</td>\n",
       "      <td>...</td>\n",
       "      <td>...</td>\n",
       "      <td>...</td>\n",
       "      <td>...</td>\n",
       "      <td>...</td>\n",
       "      <td>...</td>\n",
       "      <td>...</td>\n",
       "      <td>...</td>\n",
       "      <td>...</td>\n",
       "    </tr>\n",
       "    <tr>\n",
       "      <th>4285</th>\n",
       "      <td>2025-01-27T16:00:59</td>\n",
       "      <td>80398</td>\n",
       "      <td>NaN</td>\n",
       "      <td>NaN</td>\n",
       "      <td>Новости и СМИ</td>\n",
       "      <td>NaN</td>\n",
       "      <td>NaN</td>\n",
       "      <td>Rutube</td>\n",
       "      <td>NaN</td>\n",
       "      <td>NaN</td>\n",
       "    </tr>\n",
       "    <tr>\n",
       "      <th>4287</th>\n",
       "      <td>2025-01-26T12:00:29</td>\n",
       "      <td>11702</td>\n",
       "      <td>NaN</td>\n",
       "      <td>NaN</td>\n",
       "      <td>Психология</td>\n",
       "      <td>NaN</td>\n",
       "      <td>NaN</td>\n",
       "      <td>Rutube</td>\n",
       "      <td>NaN</td>\n",
       "      <td>NaN</td>\n",
       "    </tr>\n",
       "    <tr>\n",
       "      <th>4288</th>\n",
       "      <td>2025-01-27T10:00:57</td>\n",
       "      <td>64801</td>\n",
       "      <td>NaN</td>\n",
       "      <td>NaN</td>\n",
       "      <td>Развлечения</td>\n",
       "      <td>NaN</td>\n",
       "      <td>NaN</td>\n",
       "      <td>Rutube</td>\n",
       "      <td>NaN</td>\n",
       "      <td>NaN</td>\n",
       "    </tr>\n",
       "    <tr>\n",
       "      <th>4289</th>\n",
       "      <td>2025-01-27T18:23:06</td>\n",
       "      <td>46480</td>\n",
       "      <td>NaN</td>\n",
       "      <td>NaN</td>\n",
       "      <td>Телепередачи</td>\n",
       "      <td>NaN</td>\n",
       "      <td>NaN</td>\n",
       "      <td>Rutube</td>\n",
       "      <td>NaN</td>\n",
       "      <td>NaN</td>\n",
       "    </tr>\n",
       "    <tr>\n",
       "      <th>4290</th>\n",
       "      <td>2025-01-24T18:11:14</td>\n",
       "      <td>36532</td>\n",
       "      <td>NaN</td>\n",
       "      <td>NaN</td>\n",
       "      <td>Обзоры и распаковки товаров</td>\n",
       "      <td>NaN</td>\n",
       "      <td>NaN</td>\n",
       "      <td>Rutube</td>\n",
       "      <td>NaN</td>\n",
       "      <td>NaN</td>\n",
       "    </tr>\n",
       "  </tbody>\n",
       "</table>\n",
       "<p>231 rows × 10 columns</p>\n",
       "</div>"
      ],
      "text/plain": [
       "             published_at   views   likes  comments  \\\n",
       "100   2024-08-25T22:54:22   26097  2134.0     143.0   \n",
       "869   2024-07-07T16:53:11   11422   963.0      45.0   \n",
       "995   2024-06-30T18:57:11   12329   941.0     128.0   \n",
       "1128  2024-06-23T10:00:02   44718   169.0       6.0   \n",
       "1465  2024-06-07T14:05:38  102806   660.0     392.0   \n",
       "...                   ...     ...     ...       ...   \n",
       "4285  2025-01-27T16:00:59   80398     NaN       NaN   \n",
       "4287  2025-01-26T12:00:29   11702     NaN       NaN   \n",
       "4288  2025-01-27T10:00:57   64801     NaN       NaN   \n",
       "4289  2025-01-27T18:23:06   46480     NaN       NaN   \n",
       "4290  2025-01-24T18:11:14   36532     NaN       NaN   \n",
       "\n",
       "                         category  subscribers  videos_count  source  \\\n",
       "100                        Разное          NaN           NaN  Rutube   \n",
       "869                        Разное          NaN           NaN  Rutube   \n",
       "995                        Разное          NaN           NaN  Rutube   \n",
       "1128                     Обучение          NaN           NaN  Rutube   \n",
       "1465                         ПМЭФ          NaN           NaN  Rutube   \n",
       "...                           ...          ...           ...     ...   \n",
       "4285                Новости и СМИ          NaN           NaN  Rutube   \n",
       "4287                   Психология          NaN           NaN  Rutube   \n",
       "4288                  Развлечения          NaN           NaN  Rutube   \n",
       "4289                 Телепередачи          NaN           NaN  Rutube   \n",
       "4290  Обзоры и распаковки товаров          NaN           NaN  Rutube   \n",
       "\n",
       "     comments_likes tags  \n",
       "100             NaN  NaN  \n",
       "869             NaN  NaN  \n",
       "995             NaN  NaN  \n",
       "1128            NaN  NaN  \n",
       "1465            NaN  NaN  \n",
       "...             ...  ...  \n",
       "4285            NaN  NaN  \n",
       "4287            NaN  NaN  \n",
       "4288            NaN  NaN  \n",
       "4289            NaN  NaN  \n",
       "4290            NaN  NaN  \n",
       "\n",
       "[231 rows x 10 columns]"
      ]
     },
     "execution_count": 138,
     "metadata": {},
     "output_type": "execute_result"
    }
   ],
   "source": [
    "df_cleaned[(df_cleaned['subscribers'].isna()) & (df_cleaned['videos_count'].isna())]"
   ]
  },
  {
   "cell_type": "code",
   "execution_count": 139,
   "id": "8cc440f2",
   "metadata": {},
   "outputs": [
    {
     "data": {
      "text/plain": [
       "source\n",
       "Rutube    231\n",
       "dtype: int64"
      ]
     },
     "execution_count": 139,
     "metadata": {},
     "output_type": "execute_result"
    }
   ],
   "source": [
    "df_cleaned[(df_cleaned['subscribers'].isna()) & (df_cleaned['videos_count'].isna())].value_counts('source')"
   ]
  },
  {
   "cell_type": "markdown",
   "id": "67ed8e81",
   "metadata": {},
   "source": [
    "Как мы видим, там, где нет кол-ва подписчиков, там и нет кол-ва видео на канале. Причем все такие случаи на Rutube.  \n",
    "Вероятно это каналы, которые были удалены/скрыты и информация о них недоступна, хотя сами видео на площадке остались. Что-ж, такие у них правила.  \n",
    "Глобально, раз статистика по видео в таких строках доступна, то можем оставить такие строки и заполнить subscribers и videos_count средним значением по Rutube"
   ]
  },
  {
   "cell_type": "code",
   "execution_count": 140,
   "id": "f3965fc9",
   "metadata": {},
   "outputs": [],
   "source": [
    "df_cleaned_rutube = df_cleaned[df_cleaned['source'] == 'Rutube']\n",
    "\n",
    "df_cleaned['subscribers'] = df_cleaned['subscribers'].fillna(df_cleaned_rutube['subscribers'].mean())\n",
    "df_cleaned['videos_count'] = df_cleaned['videos_count'].fillna(df_cleaned_rutube['videos_count'].mean())"
   ]
  },
  {
   "cell_type": "code",
   "execution_count": 141,
   "id": "a515b7a5",
   "metadata": {},
   "outputs": [
    {
     "data": {
      "text/plain": [
       "published_at         0\n",
       "views                0\n",
       "likes             2139\n",
       "comments          2035\n",
       "category             5\n",
       "subscribers          0\n",
       "videos_count         0\n",
       "source               0\n",
       "comments_likes    6219\n",
       "tags              7831\n",
       "dtype: int64"
      ]
     },
     "execution_count": 141,
     "metadata": {},
     "output_type": "execute_result"
    }
   ],
   "source": [
    "df_cleaned.isna().sum()"
   ]
  },
  {
   "cell_type": "markdown",
   "id": "bb3ae77b",
   "metadata": {},
   "source": []
  },
  {
   "cell_type": "code",
   "execution_count": null,
   "id": "794ae326",
   "metadata": {},
   "outputs": [],
   "source": []
  },
  {
   "cell_type": "code",
   "execution_count": null,
   "id": "c93d294d",
   "metadata": {},
   "outputs": [],
   "source": []
  },
  {
   "cell_type": "markdown",
   "id": "7e39d170",
   "metadata": {},
   "source": [
    "Далее рассмотрим пропуски в лайках и комментариях. Прежде всего увидим, на каких платформах такие пропуски более часты"
   ]
  },
  {
   "cell_type": "code",
   "execution_count": 142,
   "id": "186c79f4",
   "metadata": {},
   "outputs": [
    {
     "data": {
      "text/plain": [
       "source\n",
       "Rutube     2035\n",
       "Youtube     104\n",
       "dtype: int64"
      ]
     },
     "execution_count": 142,
     "metadata": {},
     "output_type": "execute_result"
    }
   ],
   "source": [
    "df_cleaned[df_cleaned['likes'].isna()].value_counts('source')"
   ]
  },
  {
   "cell_type": "code",
   "execution_count": 143,
   "id": "b5db314a",
   "metadata": {},
   "outputs": [
    {
     "data": {
      "text/plain": [
       "source\n",
       "Rutube    2035\n",
       "dtype: int64"
      ]
     },
     "execution_count": 143,
     "metadata": {},
     "output_type": "execute_result"
    }
   ],
   "source": [
    "df_cleaned[df_cleaned['comments'].isna()].value_counts('source')"
   ]
  },
  {
   "cell_type": "markdown",
   "id": "6e4d9118",
   "metadata": {},
   "source": [
    "Видно, что такие пропуски зачатую в Rutube, причем исходя из совпадающей цифры на Рутубе, если отключены комментарии, то отключены и лайки. Посмотрим, как выглядят строки с такими пропусками на рутубе"
   ]
  },
  {
   "cell_type": "code",
   "execution_count": 169,
   "id": "c2c8d8c6",
   "metadata": {},
   "outputs": [
    {
     "data": {
      "text/html": [
       "<div>\n",
       "<style scoped>\n",
       "    .dataframe tbody tr th:only-of-type {\n",
       "        vertical-align: middle;\n",
       "    }\n",
       "\n",
       "    .dataframe tbody tr th {\n",
       "        vertical-align: top;\n",
       "    }\n",
       "\n",
       "    .dataframe thead th {\n",
       "        text-align: right;\n",
       "    }\n",
       "</style>\n",
       "<table border=\"1\" class=\"dataframe\">\n",
       "  <thead>\n",
       "    <tr style=\"text-align: right;\">\n",
       "      <th></th>\n",
       "      <th>published_at</th>\n",
       "      <th>views</th>\n",
       "      <th>likes</th>\n",
       "      <th>comments</th>\n",
       "      <th>category</th>\n",
       "      <th>subscribers</th>\n",
       "      <th>videos_count</th>\n",
       "      <th>source</th>\n",
       "      <th>comments_likes</th>\n",
       "      <th>tags</th>\n",
       "    </tr>\n",
       "  </thead>\n",
       "  <tbody>\n",
       "    <tr>\n",
       "      <th>0</th>\n",
       "      <td>2025-03-02T12:01:11</td>\n",
       "      <td>23261</td>\n",
       "      <td>NaN</td>\n",
       "      <td>NaN</td>\n",
       "      <td>Авто-мото</td>\n",
       "      <td>66937.0</td>\n",
       "      <td>298.0</td>\n",
       "      <td>Rutube</td>\n",
       "      <td>NaN</td>\n",
       "      <td>NaN</td>\n",
       "    </tr>\n",
       "    <tr>\n",
       "      <th>3</th>\n",
       "      <td>2025-03-02T10:00:46</td>\n",
       "      <td>19553</td>\n",
       "      <td>NaN</td>\n",
       "      <td>NaN</td>\n",
       "      <td>Развлечения</td>\n",
       "      <td>45950.0</td>\n",
       "      <td>1092.0</td>\n",
       "      <td>Rutube</td>\n",
       "      <td>NaN</td>\n",
       "      <td>NaN</td>\n",
       "    </tr>\n",
       "    <tr>\n",
       "      <th>4</th>\n",
       "      <td>2025-03-02T10:00:26</td>\n",
       "      <td>28075</td>\n",
       "      <td>NaN</td>\n",
       "      <td>NaN</td>\n",
       "      <td>Культура</td>\n",
       "      <td>155359.0</td>\n",
       "      <td>195.0</td>\n",
       "      <td>Rutube</td>\n",
       "      <td>NaN</td>\n",
       "      <td>NaN</td>\n",
       "    </tr>\n",
       "    <tr>\n",
       "      <th>6</th>\n",
       "      <td>2025-03-02T10:47:59</td>\n",
       "      <td>11505</td>\n",
       "      <td>NaN</td>\n",
       "      <td>NaN</td>\n",
       "      <td>Авто-мото</td>\n",
       "      <td>8411.0</td>\n",
       "      <td>462.0</td>\n",
       "      <td>Rutube</td>\n",
       "      <td>NaN</td>\n",
       "      <td>NaN</td>\n",
       "    </tr>\n",
       "    <tr>\n",
       "      <th>8</th>\n",
       "      <td>2025-03-01T18:50:18</td>\n",
       "      <td>6593</td>\n",
       "      <td>NaN</td>\n",
       "      <td>NaN</td>\n",
       "      <td>Фильмы</td>\n",
       "      <td>11021.0</td>\n",
       "      <td>150.0</td>\n",
       "      <td>Rutube</td>\n",
       "      <td>NaN</td>\n",
       "      <td>NaN</td>\n",
       "    </tr>\n",
       "    <tr>\n",
       "      <th>...</th>\n",
       "      <td>...</td>\n",
       "      <td>...</td>\n",
       "      <td>...</td>\n",
       "      <td>...</td>\n",
       "      <td>...</td>\n",
       "      <td>...</td>\n",
       "      <td>...</td>\n",
       "      <td>...</td>\n",
       "      <td>...</td>\n",
       "      <td>...</td>\n",
       "    </tr>\n",
       "    <tr>\n",
       "      <th>6188</th>\n",
       "      <td>2024-12-12T12:01:29</td>\n",
       "      <td>4993</td>\n",
       "      <td>NaN</td>\n",
       "      <td>NaN</td>\n",
       "      <td>Психология</td>\n",
       "      <td>13127.0</td>\n",
       "      <td>156.0</td>\n",
       "      <td>Rutube</td>\n",
       "      <td>NaN</td>\n",
       "      <td>NaN</td>\n",
       "    </tr>\n",
       "    <tr>\n",
       "      <th>6208</th>\n",
       "      <td>2024-12-11T14:18:44</td>\n",
       "      <td>9638</td>\n",
       "      <td>NaN</td>\n",
       "      <td>NaN</td>\n",
       "      <td>Интервью</td>\n",
       "      <td>15262.0</td>\n",
       "      <td>143.0</td>\n",
       "      <td>Rutube</td>\n",
       "      <td>NaN</td>\n",
       "      <td>NaN</td>\n",
       "    </tr>\n",
       "    <tr>\n",
       "      <th>6210</th>\n",
       "      <td>2024-12-12T17:25:30</td>\n",
       "      <td>28736</td>\n",
       "      <td>NaN</td>\n",
       "      <td>NaN</td>\n",
       "      <td>Разное</td>\n",
       "      <td>85021.0</td>\n",
       "      <td>1313.0</td>\n",
       "      <td>Rutube</td>\n",
       "      <td>NaN</td>\n",
       "      <td>NaN</td>\n",
       "    </tr>\n",
       "    <tr>\n",
       "      <th>6214</th>\n",
       "      <td>2024-12-12T19:02:01</td>\n",
       "      <td>30979</td>\n",
       "      <td>NaN</td>\n",
       "      <td>NaN</td>\n",
       "      <td>Новости и СМИ</td>\n",
       "      <td>54006.0</td>\n",
       "      <td>265.0</td>\n",
       "      <td>Rutube</td>\n",
       "      <td>NaN</td>\n",
       "      <td>NaN</td>\n",
       "    </tr>\n",
       "    <tr>\n",
       "      <th>6217</th>\n",
       "      <td>2024-12-11T18:09:05</td>\n",
       "      <td>22898</td>\n",
       "      <td>NaN</td>\n",
       "      <td>NaN</td>\n",
       "      <td>Новости и СМИ</td>\n",
       "      <td>110998.0</td>\n",
       "      <td>828.0</td>\n",
       "      <td>Rutube</td>\n",
       "      <td>NaN</td>\n",
       "      <td>NaN</td>\n",
       "    </tr>\n",
       "  </tbody>\n",
       "</table>\n",
       "<p>2035 rows × 10 columns</p>\n",
       "</div>"
      ],
      "text/plain": [
       "             published_at  views  likes  comments       category  subscribers  \\\n",
       "0     2025-03-02T12:01:11  23261    NaN       NaN      Авто-мото      66937.0   \n",
       "3     2025-03-02T10:00:46  19553    NaN       NaN    Развлечения      45950.0   \n",
       "4     2025-03-02T10:00:26  28075    NaN       NaN       Культура     155359.0   \n",
       "6     2025-03-02T10:47:59  11505    NaN       NaN      Авто-мото       8411.0   \n",
       "8     2025-03-01T18:50:18   6593    NaN       NaN         Фильмы      11021.0   \n",
       "...                   ...    ...    ...       ...            ...          ...   \n",
       "6188  2024-12-12T12:01:29   4993    NaN       NaN     Психология      13127.0   \n",
       "6208  2024-12-11T14:18:44   9638    NaN       NaN       Интервью      15262.0   \n",
       "6210  2024-12-12T17:25:30  28736    NaN       NaN         Разное      85021.0   \n",
       "6214  2024-12-12T19:02:01  30979    NaN       NaN  Новости и СМИ      54006.0   \n",
       "6217  2024-12-11T18:09:05  22898    NaN       NaN  Новости и СМИ     110998.0   \n",
       "\n",
       "      videos_count  source comments_likes tags  \n",
       "0            298.0  Rutube            NaN  NaN  \n",
       "3           1092.0  Rutube            NaN  NaN  \n",
       "4            195.0  Rutube            NaN  NaN  \n",
       "6            462.0  Rutube            NaN  NaN  \n",
       "8            150.0  Rutube            NaN  NaN  \n",
       "...            ...     ...            ...  ...  \n",
       "6188         156.0  Rutube            NaN  NaN  \n",
       "6208         143.0  Rutube            NaN  NaN  \n",
       "6210        1313.0  Rutube            NaN  NaN  \n",
       "6214         265.0  Rutube            NaN  NaN  \n",
       "6217         828.0  Rutube            NaN  NaN  \n",
       "\n",
       "[2035 rows x 10 columns]"
      ]
     },
     "execution_count": 169,
     "metadata": {},
     "output_type": "execute_result"
    }
   ],
   "source": [
    "df_cleaned[(df_cleaned['source'] == 'Rutube') & ((df_cleaned['comments'].isna()) | (df_cleaned['likes'].isna()))]"
   ]
  },
  {
   "cell_type": "markdown",
   "id": "30aeb0da",
   "metadata": {},
   "source": [
    "Объединение получилось ровно 2035, поэтому гипотеза оказалась верна. Такие строки мы удалим, потому что дальнейшему анализу они мало будут полезны  \n",
    "Однако отсутствующие лайки на ютубе мы заменим на среднее значение, т.к. там всего 104 пропуска, т.е. +-3% от всех ютубовских строк"
   ]
  },
  {
   "cell_type": "code",
   "execution_count": 173,
   "id": "01f59be6",
   "metadata": {},
   "outputs": [
    {
     "data": {
      "text/plain": [
       "Rutube     4184\n",
       "Youtube    3141\n",
       "Name: source, dtype: int64"
      ]
     },
     "execution_count": 173,
     "metadata": {},
     "output_type": "execute_result"
    }
   ],
   "source": [
    "df_cleaned = df_cleaned[(df_cleaned['source'] == 'Youtube') | ((df_cleaned['source'] == 'Rutube') & (~df_cleaned['likes'].isna()))]\n",
    "df_cleaned['source'].value_counts()"
   ]
  },
  {
   "cell_type": "code",
   "execution_count": 175,
   "id": "ac86847e",
   "metadata": {},
   "outputs": [],
   "source": [
    "df_cleaned['likes'] = df_cleaned['likes'].fillna(df_cleaned[df_cleaned['source'] == 'Youtube']['likes'].mean())"
   ]
  },
  {
   "cell_type": "code",
   "execution_count": 176,
   "id": "0a587d21",
   "metadata": {},
   "outputs": [
    {
     "data": {
      "text/plain": [
       "published_at         0\n",
       "views                0\n",
       "likes                0\n",
       "comments             0\n",
       "category             5\n",
       "subscribers         26\n",
       "videos_count        26\n",
       "source               0\n",
       "comments_likes    4184\n",
       "tags              5796\n",
       "dtype: int64"
      ]
     },
     "execution_count": 176,
     "metadata": {},
     "output_type": "execute_result"
    }
   ],
   "source": [
    "df_cleaned.isna().sum()"
   ]
  },
  {
   "cell_type": "markdown",
   "id": "d6d30e2c",
   "metadata": {},
   "source": [
    "Отлично! Теперь видео с двух ресурсов в более равных пропорциях относительно друг друга в датасете.  \n",
    "Строки с пропусками в category, subscribers и videos_count уберем из-за того, что их кол-во незначительно"
   ]
  },
  {
   "cell_type": "code",
   "execution_count": 177,
   "id": "161977aa",
   "metadata": {},
   "outputs": [
    {
     "data": {
      "text/plain": [
       "published_at         0\n",
       "views                0\n",
       "likes                0\n",
       "comments             0\n",
       "category             0\n",
       "subscribers          0\n",
       "videos_count         0\n",
       "source               0\n",
       "comments_likes    4158\n",
       "tags              5769\n",
       "dtype: int64"
      ]
     },
     "execution_count": 177,
     "metadata": {},
     "output_type": "execute_result"
    }
   ],
   "source": [
    "df_cleaned = df_cleaned.dropna(subset=['category', 'subscribers', 'videos_count'])\n",
    "df_cleaned.isna().sum()"
   ]
  },
  {
   "cell_type": "markdown",
   "id": "8fb0a332",
   "metadata": {},
   "source": [
    "Остались два поля: comments_likes и tags. Они есть только у ютубовских строк. Таким образом comments_likes нет только у всех rutube видео, а tags нет у некоторых видео на ютубе.  \n",
    "Тогда там можно убирать пропуски при их непосредственном анализе"
   ]
  },
  {
   "cell_type": "code",
   "execution_count": null,
   "id": "b328dbbc",
   "metadata": {},
   "outputs": [],
   "source": []
  },
  {
   "cell_type": "code",
   "execution_count": null,
   "id": "3c06b6b6",
   "metadata": {},
   "outputs": [],
   "source": []
  },
  {
   "cell_type": "code",
   "execution_count": null,
   "id": "55e4ecf6",
   "metadata": {},
   "outputs": [],
   "source": []
  },
  {
   "cell_type": "code",
   "execution_count": 145,
   "id": "06851265",
   "metadata": {},
   "outputs": [
    {
     "data": {
      "text/plain": [
       "array(['Авто-мото', 'Новости и СМИ', 'Развлечения', 'Культура', 'Фильмы',\n",
       "       'Разное', 'Обучение', 'Телепередачи', 'Политика', 'Путешествия',\n",
       "       'Лайфстайл', 'Интервью', 'Животные', 'Аниме', 'Детям', 'Спорт',\n",
       "       'Сериалы', 'Юмор', 'Недвижимость', 'Психология', 'Еда',\n",
       "       'Видеоигры', 'Технологии и интернет',\n",
       "       'Бизнес и предпринимательство', 'Музыка', 'Наука',\n",
       "       'Обзоры и распаковки товаров', 'Эзотерика', 'Мультфильмы',\n",
       "       'Летник RUTUBE', 'Строительство и ремонт', 'Красота', 'Хобби',\n",
       "       'Техника и оборудование', 'Лайфхаки', 'Здоровье', 'Природа',\n",
       "       'Гид RUTUBE: города России', 'Сад и огород', 'Спецпроекты', 'ПМЭФ',\n",
       "       'Дизайн', '80 лет Великой Победе', 'Активность: «Контент-прорыв»',\n",
       "       'Аудиокниги', 'Акция «Весна на экране»',\n",
       "       'Акция «RUTUBE — это по любви»', 'Религия',\n",
       "       'Акция «2024 — встречай!»', 'Включи Новый год'], dtype=object)"
      ]
     },
     "execution_count": 145,
     "metadata": {},
     "output_type": "execute_result"
    }
   ],
   "source": [
    "df_cleaned[df_cleaned['source'] != 'Youtube']['category'].unique()"
   ]
  },
  {
   "cell_type": "code",
   "execution_count": 146,
   "id": "46d25a95",
   "metadata": {},
   "outputs": [
    {
     "data": {
      "text/plain": [
       "array(['Comedy', 'People & Blogs', 'Film & Animation', 'Sports',\n",
       "       'Science & Technology', 'News & Politics', 'Entertainment',\n",
       "       'Gaming', 'Music', 'Autos & Vehicles', 'Howto & Style',\n",
       "       'Education', 'Travel & Events', 'Pets & Animals', nan],\n",
       "      dtype=object)"
      ]
     },
     "execution_count": 146,
     "metadata": {},
     "output_type": "execute_result"
    }
   ],
   "source": [
    "df_cleaned[df_cleaned['source'] == 'Youtube']['category'].unique()"
   ]
  },
  {
   "cell_type": "markdown",
   "id": "68daf5d8",
   "metadata": {},
   "source": [
    "Также, мы посмотрим на общую информацию по датасету и соответствие типов данных правильным:"
   ]
  },
  {
   "cell_type": "code",
   "execution_count": 147,
   "id": "e15fe491",
   "metadata": {},
   "outputs": [
    {
     "name": "stdout",
     "output_type": "stream",
     "text": [
      "<class 'pandas.core.frame.DataFrame'>\n",
      "RangeIndex: 9360 entries, 0 to 9359\n",
      "Data columns (total 10 columns):\n",
      " #   Column          Non-Null Count  Dtype  \n",
      "---  ------          --------------  -----  \n",
      " 0   published_at    9360 non-null   object \n",
      " 1   views           9360 non-null   int64  \n",
      " 2   likes           7221 non-null   float64\n",
      " 3   comments        7325 non-null   float64\n",
      " 4   category        9355 non-null   object \n",
      " 5   subscribers     9360 non-null   float64\n",
      " 6   videos_count    9360 non-null   float64\n",
      " 7   source          9360 non-null   object \n",
      " 8   comments_likes  3141 non-null   object \n",
      " 9   tags            1529 non-null   object \n",
      "dtypes: float64(4), int64(1), object(5)\n",
      "memory usage: 731.4+ KB\n"
     ]
    }
   ],
   "source": [
    "df_cleaned.info()"
   ]
  },
  {
   "cell_type": "markdown",
   "id": "ca2ef1d2",
   "metadata": {},
   "source": [
    "Видно, что published_at поле у нас не определилось как дата, мы исправим это в коде ниже:"
   ]
  },
  {
   "cell_type": "code",
   "execution_count": 148,
   "id": "42c2b22c",
   "metadata": {},
   "outputs": [],
   "source": [
    "df_cleaned['published_at'] = pd.to_datetime(df_cleaned['published_at'], errors='coerce')"
   ]
  },
  {
   "cell_type": "markdown",
   "id": "b894ad94",
   "metadata": {},
   "source": [
    "И на всякий случай проверим, что у нас нет отрицательных значений:"
   ]
  },
  {
   "cell_type": "code",
   "execution_count": 153,
   "id": "16b25152",
   "metadata": {},
   "outputs": [
    {
     "name": "stdout",
     "output_type": "stream",
     "text": [
      "В столбце 'views' найдено 0 отрицательных значений.\n",
      "В столбце 'likes' найдено 0 отрицательных значений.\n",
      "В столбце 'comments' найдено 0 отрицательных значений.\n",
      "В столбце 'subscribers' найдено 0 отрицательных значений.\n",
      "В столбце 'videos_count' найдено 0 отрицательных значений.\n"
     ]
    }
   ],
   "source": [
    "numeric_cols = ['views', 'likes', 'comments', 'subscribers', 'videos_count']\n",
    "\n",
    "for col in numeric_cols:\n",
    "    if col in df_cleaned.columns:\n",
    "        negative_rows = df_cleaned[df_cleaned[col] < 0]\n",
    "        count = negative_rows.shape[0]\n",
    "        print(f\"В столбце '{col}' найдено {count} отрицательных значений.\")"
   ]
  },
  {
   "cell_type": "code",
   "execution_count": null,
   "id": "21917428",
   "metadata": {},
   "outputs": [],
   "source": []
  },
  {
   "cell_type": "markdown",
   "id": "a7f187b5",
   "metadata": {},
   "source": [
    "Изучить особенности данных в рамках объединённого датасета:  \n",
    "Есть ли пропущенные значения? Сколько? Какова их доля от общего числа объектов для каждого конкретного признака? И, в целом, насколько ваш датасет “разрежен” в контексте пропущенных значений? Выдвинуть и (желательно) проверить гипотезу, что могут означать пропущенные значения? Осмысленно и аргументированно обработать пропуски.  \n",
    "Есть ли ошибочные (например, отрицательный возраст или пятиметровый рост человека; 3-й класс в задаче бинарной классификации) значения (признаки, целевая переменная) в данных? Обработать их.  \n",
    "Есть ли выбросы в данных? По возможности обработать их.  \n",
    "Изучить поведение каждого признака в отдельности, его связь с целевой переменной, а также попарные корреляции (в том числе и в особенности с таргетом). Визуализировать попарные распределения признаков и корреляции наиболее значимых.  \n",
    "Построить подходящие сводные таблицы и прочие диаграммы.  \n",
    "Если проведенный вами анализ позволяет сделать какие-либо выводы, постараться сформулировать их максимально глубоко и развернуто. Упомянуть, как можно задействовать в дальнейшем приобретенные вами на этом этапе знания в решаемой задаче.  \n",
    "Осуществить и другие осмысленные действия в рамках процесса EDA.  "
   ]
  },
  {
   "cell_type": "code",
   "execution_count": null,
   "id": "0c5e7a5c",
   "metadata": {},
   "outputs": [],
   "source": []
  },
  {
   "cell_type": "markdown",
   "id": "218081db",
   "metadata": {},
   "source": [
    "## Теперь можем приступить к не менее интересной части EDA для обнаружения поверхностных инсайтов в данны"
   ]
  },
  {
   "cell_type": "markdown",
   "id": "b7a1bdfd",
   "metadata": {},
   "source": [
    "1) Для начала, построим корреляционную матрицу **ЧЕРЕЗ ПЛОТЛИ!!** для числовых показателей (views, likes, comments, subscribers, videos_count), чтобы понять, какие метрики связаны между собой и какие могут быть полезны для построения моделей."
   ]
  },
  {
   "cell_type": "code",
   "execution_count": 182,
   "id": "6ac4fdc7",
   "metadata": {},
   "outputs": [
    {
     "data": {
      "application/vnd.plotly.v1+json": {
       "config": {
        "plotlyServerURL": "https://plot.ly"
       },
       "data": [
        {
         "coloraxis": "coloraxis",
         "hovertemplate": "x: %{x}<br>y: %{y}<br>color: %{z}<extra></extra>",
         "name": "0",
         "texttemplate": "%{z}",
         "type": "heatmap",
         "x": [
          "views",
          "likes",
          "comments",
          "subscribers",
          "videos_count"
         ],
         "xaxis": "x",
         "y": [
          "views",
          "likes",
          "comments",
          "subscribers",
          "videos_count"
         ],
         "yaxis": "y",
         "z": [
          [
           1,
           0.8776270996333292,
           0.3290082597944345,
           0.3077649163228216,
           -0.013559855014480551
          ],
          [
           0.8776270996333292,
           1,
           0.38800618415877564,
           0.35520521256391147,
           -0.021551422761154647
          ],
          [
           0.3290082597944345,
           0.38800618415877564,
           1,
           0.10659884626424675,
           0.1279888460942182
          ],
          [
           0.3077649163228216,
           0.35520521256391147,
           0.10659884626424675,
           1,
           0.05075760259591088
          ],
          [
           -0.013559855014480551,
           -0.021551422761154647,
           0.1279888460942182,
           0.05075760259591088,
           1
          ]
         ]
        }
       ],
       "layout": {
        "coloraxis": {
         "colorscale": [
          [
           0,
           "rgb(5,48,97)"
          ],
          [
           0.1,
           "rgb(33,102,172)"
          ],
          [
           0.2,
           "rgb(67,147,195)"
          ],
          [
           0.3,
           "rgb(146,197,222)"
          ],
          [
           0.4,
           "rgb(209,229,240)"
          ],
          [
           0.5,
           "rgb(247,247,247)"
          ],
          [
           0.6,
           "rgb(253,219,199)"
          ],
          [
           0.7,
           "rgb(244,165,130)"
          ],
          [
           0.8,
           "rgb(214,96,77)"
          ],
          [
           0.9,
           "rgb(178,24,43)"
          ],
          [
           1,
           "rgb(103,0,31)"
          ]
         ]
        },
        "template": {
         "data": {
          "bar": [
           {
            "error_x": {
             "color": "#2a3f5f"
            },
            "error_y": {
             "color": "#2a3f5f"
            },
            "marker": {
             "line": {
              "color": "#E5ECF6",
              "width": 0.5
             },
             "pattern": {
              "fillmode": "overlay",
              "size": 10,
              "solidity": 0.2
             }
            },
            "type": "bar"
           }
          ],
          "barpolar": [
           {
            "marker": {
             "line": {
              "color": "#E5ECF6",
              "width": 0.5
             },
             "pattern": {
              "fillmode": "overlay",
              "size": 10,
              "solidity": 0.2
             }
            },
            "type": "barpolar"
           }
          ],
          "carpet": [
           {
            "aaxis": {
             "endlinecolor": "#2a3f5f",
             "gridcolor": "white",
             "linecolor": "white",
             "minorgridcolor": "white",
             "startlinecolor": "#2a3f5f"
            },
            "baxis": {
             "endlinecolor": "#2a3f5f",
             "gridcolor": "white",
             "linecolor": "white",
             "minorgridcolor": "white",
             "startlinecolor": "#2a3f5f"
            },
            "type": "carpet"
           }
          ],
          "choropleth": [
           {
            "colorbar": {
             "outlinewidth": 0,
             "ticks": ""
            },
            "type": "choropleth"
           }
          ],
          "contour": [
           {
            "colorbar": {
             "outlinewidth": 0,
             "ticks": ""
            },
            "colorscale": [
             [
              0,
              "#0d0887"
             ],
             [
              0.1111111111111111,
              "#46039f"
             ],
             [
              0.2222222222222222,
              "#7201a8"
             ],
             [
              0.3333333333333333,
              "#9c179e"
             ],
             [
              0.4444444444444444,
              "#bd3786"
             ],
             [
              0.5555555555555556,
              "#d8576b"
             ],
             [
              0.6666666666666666,
              "#ed7953"
             ],
             [
              0.7777777777777778,
              "#fb9f3a"
             ],
             [
              0.8888888888888888,
              "#fdca26"
             ],
             [
              1,
              "#f0f921"
             ]
            ],
            "type": "contour"
           }
          ],
          "contourcarpet": [
           {
            "colorbar": {
             "outlinewidth": 0,
             "ticks": ""
            },
            "type": "contourcarpet"
           }
          ],
          "heatmap": [
           {
            "colorbar": {
             "outlinewidth": 0,
             "ticks": ""
            },
            "colorscale": [
             [
              0,
              "#0d0887"
             ],
             [
              0.1111111111111111,
              "#46039f"
             ],
             [
              0.2222222222222222,
              "#7201a8"
             ],
             [
              0.3333333333333333,
              "#9c179e"
             ],
             [
              0.4444444444444444,
              "#bd3786"
             ],
             [
              0.5555555555555556,
              "#d8576b"
             ],
             [
              0.6666666666666666,
              "#ed7953"
             ],
             [
              0.7777777777777778,
              "#fb9f3a"
             ],
             [
              0.8888888888888888,
              "#fdca26"
             ],
             [
              1,
              "#f0f921"
             ]
            ],
            "type": "heatmap"
           }
          ],
          "heatmapgl": [
           {
            "colorbar": {
             "outlinewidth": 0,
             "ticks": ""
            },
            "colorscale": [
             [
              0,
              "#0d0887"
             ],
             [
              0.1111111111111111,
              "#46039f"
             ],
             [
              0.2222222222222222,
              "#7201a8"
             ],
             [
              0.3333333333333333,
              "#9c179e"
             ],
             [
              0.4444444444444444,
              "#bd3786"
             ],
             [
              0.5555555555555556,
              "#d8576b"
             ],
             [
              0.6666666666666666,
              "#ed7953"
             ],
             [
              0.7777777777777778,
              "#fb9f3a"
             ],
             [
              0.8888888888888888,
              "#fdca26"
             ],
             [
              1,
              "#f0f921"
             ]
            ],
            "type": "heatmapgl"
           }
          ],
          "histogram": [
           {
            "marker": {
             "pattern": {
              "fillmode": "overlay",
              "size": 10,
              "solidity": 0.2
             }
            },
            "type": "histogram"
           }
          ],
          "histogram2d": [
           {
            "colorbar": {
             "outlinewidth": 0,
             "ticks": ""
            },
            "colorscale": [
             [
              0,
              "#0d0887"
             ],
             [
              0.1111111111111111,
              "#46039f"
             ],
             [
              0.2222222222222222,
              "#7201a8"
             ],
             [
              0.3333333333333333,
              "#9c179e"
             ],
             [
              0.4444444444444444,
              "#bd3786"
             ],
             [
              0.5555555555555556,
              "#d8576b"
             ],
             [
              0.6666666666666666,
              "#ed7953"
             ],
             [
              0.7777777777777778,
              "#fb9f3a"
             ],
             [
              0.8888888888888888,
              "#fdca26"
             ],
             [
              1,
              "#f0f921"
             ]
            ],
            "type": "histogram2d"
           }
          ],
          "histogram2dcontour": [
           {
            "colorbar": {
             "outlinewidth": 0,
             "ticks": ""
            },
            "colorscale": [
             [
              0,
              "#0d0887"
             ],
             [
              0.1111111111111111,
              "#46039f"
             ],
             [
              0.2222222222222222,
              "#7201a8"
             ],
             [
              0.3333333333333333,
              "#9c179e"
             ],
             [
              0.4444444444444444,
              "#bd3786"
             ],
             [
              0.5555555555555556,
              "#d8576b"
             ],
             [
              0.6666666666666666,
              "#ed7953"
             ],
             [
              0.7777777777777778,
              "#fb9f3a"
             ],
             [
              0.8888888888888888,
              "#fdca26"
             ],
             [
              1,
              "#f0f921"
             ]
            ],
            "type": "histogram2dcontour"
           }
          ],
          "mesh3d": [
           {
            "colorbar": {
             "outlinewidth": 0,
             "ticks": ""
            },
            "type": "mesh3d"
           }
          ],
          "parcoords": [
           {
            "line": {
             "colorbar": {
              "outlinewidth": 0,
              "ticks": ""
             }
            },
            "type": "parcoords"
           }
          ],
          "pie": [
           {
            "automargin": true,
            "type": "pie"
           }
          ],
          "scatter": [
           {
            "fillpattern": {
             "fillmode": "overlay",
             "size": 10,
             "solidity": 0.2
            },
            "type": "scatter"
           }
          ],
          "scatter3d": [
           {
            "line": {
             "colorbar": {
              "outlinewidth": 0,
              "ticks": ""
             }
            },
            "marker": {
             "colorbar": {
              "outlinewidth": 0,
              "ticks": ""
             }
            },
            "type": "scatter3d"
           }
          ],
          "scattercarpet": [
           {
            "marker": {
             "colorbar": {
              "outlinewidth": 0,
              "ticks": ""
             }
            },
            "type": "scattercarpet"
           }
          ],
          "scattergeo": [
           {
            "marker": {
             "colorbar": {
              "outlinewidth": 0,
              "ticks": ""
             }
            },
            "type": "scattergeo"
           }
          ],
          "scattergl": [
           {
            "marker": {
             "colorbar": {
              "outlinewidth": 0,
              "ticks": ""
             }
            },
            "type": "scattergl"
           }
          ],
          "scattermapbox": [
           {
            "marker": {
             "colorbar": {
              "outlinewidth": 0,
              "ticks": ""
             }
            },
            "type": "scattermapbox"
           }
          ],
          "scatterpolar": [
           {
            "marker": {
             "colorbar": {
              "outlinewidth": 0,
              "ticks": ""
             }
            },
            "type": "scatterpolar"
           }
          ],
          "scatterpolargl": [
           {
            "marker": {
             "colorbar": {
              "outlinewidth": 0,
              "ticks": ""
             }
            },
            "type": "scatterpolargl"
           }
          ],
          "scatterternary": [
           {
            "marker": {
             "colorbar": {
              "outlinewidth": 0,
              "ticks": ""
             }
            },
            "type": "scatterternary"
           }
          ],
          "surface": [
           {
            "colorbar": {
             "outlinewidth": 0,
             "ticks": ""
            },
            "colorscale": [
             [
              0,
              "#0d0887"
             ],
             [
              0.1111111111111111,
              "#46039f"
             ],
             [
              0.2222222222222222,
              "#7201a8"
             ],
             [
              0.3333333333333333,
              "#9c179e"
             ],
             [
              0.4444444444444444,
              "#bd3786"
             ],
             [
              0.5555555555555556,
              "#d8576b"
             ],
             [
              0.6666666666666666,
              "#ed7953"
             ],
             [
              0.7777777777777778,
              "#fb9f3a"
             ],
             [
              0.8888888888888888,
              "#fdca26"
             ],
             [
              1,
              "#f0f921"
             ]
            ],
            "type": "surface"
           }
          ],
          "table": [
           {
            "cells": {
             "fill": {
              "color": "#EBF0F8"
             },
             "line": {
              "color": "white"
             }
            },
            "header": {
             "fill": {
              "color": "#C8D4E3"
             },
             "line": {
              "color": "white"
             }
            },
            "type": "table"
           }
          ]
         },
         "layout": {
          "annotationdefaults": {
           "arrowcolor": "#2a3f5f",
           "arrowhead": 0,
           "arrowwidth": 1
          },
          "autotypenumbers": "strict",
          "coloraxis": {
           "colorbar": {
            "outlinewidth": 0,
            "ticks": ""
           }
          },
          "colorscale": {
           "diverging": [
            [
             0,
             "#8e0152"
            ],
            [
             0.1,
             "#c51b7d"
            ],
            [
             0.2,
             "#de77ae"
            ],
            [
             0.3,
             "#f1b6da"
            ],
            [
             0.4,
             "#fde0ef"
            ],
            [
             0.5,
             "#f7f7f7"
            ],
            [
             0.6,
             "#e6f5d0"
            ],
            [
             0.7,
             "#b8e186"
            ],
            [
             0.8,
             "#7fbc41"
            ],
            [
             0.9,
             "#4d9221"
            ],
            [
             1,
             "#276419"
            ]
           ],
           "sequential": [
            [
             0,
             "#0d0887"
            ],
            [
             0.1111111111111111,
             "#46039f"
            ],
            [
             0.2222222222222222,
             "#7201a8"
            ],
            [
             0.3333333333333333,
             "#9c179e"
            ],
            [
             0.4444444444444444,
             "#bd3786"
            ],
            [
             0.5555555555555556,
             "#d8576b"
            ],
            [
             0.6666666666666666,
             "#ed7953"
            ],
            [
             0.7777777777777778,
             "#fb9f3a"
            ],
            [
             0.8888888888888888,
             "#fdca26"
            ],
            [
             1,
             "#f0f921"
            ]
           ],
           "sequentialminus": [
            [
             0,
             "#0d0887"
            ],
            [
             0.1111111111111111,
             "#46039f"
            ],
            [
             0.2222222222222222,
             "#7201a8"
            ],
            [
             0.3333333333333333,
             "#9c179e"
            ],
            [
             0.4444444444444444,
             "#bd3786"
            ],
            [
             0.5555555555555556,
             "#d8576b"
            ],
            [
             0.6666666666666666,
             "#ed7953"
            ],
            [
             0.7777777777777778,
             "#fb9f3a"
            ],
            [
             0.8888888888888888,
             "#fdca26"
            ],
            [
             1,
             "#f0f921"
            ]
           ]
          },
          "colorway": [
           "#636efa",
           "#EF553B",
           "#00cc96",
           "#ab63fa",
           "#FFA15A",
           "#19d3f3",
           "#FF6692",
           "#B6E880",
           "#FF97FF",
           "#FECB52"
          ],
          "font": {
           "color": "#2a3f5f"
          },
          "geo": {
           "bgcolor": "white",
           "lakecolor": "white",
           "landcolor": "#E5ECF6",
           "showlakes": true,
           "showland": true,
           "subunitcolor": "white"
          },
          "hoverlabel": {
           "align": "left"
          },
          "hovermode": "closest",
          "mapbox": {
           "style": "light"
          },
          "paper_bgcolor": "white",
          "plot_bgcolor": "#E5ECF6",
          "polar": {
           "angularaxis": {
            "gridcolor": "white",
            "linecolor": "white",
            "ticks": ""
           },
           "bgcolor": "#E5ECF6",
           "radialaxis": {
            "gridcolor": "white",
            "linecolor": "white",
            "ticks": ""
           }
          },
          "scene": {
           "xaxis": {
            "backgroundcolor": "#E5ECF6",
            "gridcolor": "white",
            "gridwidth": 2,
            "linecolor": "white",
            "showbackground": true,
            "ticks": "",
            "zerolinecolor": "white"
           },
           "yaxis": {
            "backgroundcolor": "#E5ECF6",
            "gridcolor": "white",
            "gridwidth": 2,
            "linecolor": "white",
            "showbackground": true,
            "ticks": "",
            "zerolinecolor": "white"
           },
           "zaxis": {
            "backgroundcolor": "#E5ECF6",
            "gridcolor": "white",
            "gridwidth": 2,
            "linecolor": "white",
            "showbackground": true,
            "ticks": "",
            "zerolinecolor": "white"
           }
          },
          "shapedefaults": {
           "line": {
            "color": "#2a3f5f"
           }
          },
          "ternary": {
           "aaxis": {
            "gridcolor": "white",
            "linecolor": "white",
            "ticks": ""
           },
           "baxis": {
            "gridcolor": "white",
            "linecolor": "white",
            "ticks": ""
           },
           "bgcolor": "#E5ECF6",
           "caxis": {
            "gridcolor": "white",
            "linecolor": "white",
            "ticks": ""
           }
          },
          "title": {
           "x": 0.05
          },
          "xaxis": {
           "automargin": true,
           "gridcolor": "white",
           "linecolor": "white",
           "ticks": "",
           "title": {
            "standoff": 15
           },
           "zerolinecolor": "white",
           "zerolinewidth": 2
          },
          "yaxis": {
           "automargin": true,
           "gridcolor": "white",
           "linecolor": "white",
           "ticks": "",
           "title": {
            "standoff": 15
           },
           "zerolinecolor": "white",
           "zerolinewidth": 2
          }
         }
        },
        "title": {
         "text": "Correlation Matrix for Numeric Metrics"
        },
        "xaxis": {
         "anchor": "y",
         "constrain": "domain",
         "domain": [
          0,
          1
         ],
         "scaleanchor": "y"
        },
        "yaxis": {
         "anchor": "x",
         "autorange": "reversed",
         "constrain": "domain",
         "domain": [
          0,
          1
         ]
        }
       }
      },
      "text/html": [
       "<div>                            <div id=\"1211be2a-7781-4563-93c4-fe693d02e0e1\" class=\"plotly-graph-div\" style=\"height:525px; width:100%;\"></div>            <script type=\"text/javascript\">                require([\"plotly\"], function(Plotly) {                    window.PLOTLYENV=window.PLOTLYENV || {};                                    if (document.getElementById(\"1211be2a-7781-4563-93c4-fe693d02e0e1\")) {                    Plotly.newPlot(                        \"1211be2a-7781-4563-93c4-fe693d02e0e1\",                        [{\"coloraxis\":\"coloraxis\",\"name\":\"0\",\"texttemplate\":\"%{z}\",\"x\":[\"views\",\"likes\",\"comments\",\"subscribers\",\"videos_count\"],\"y\":[\"views\",\"likes\",\"comments\",\"subscribers\",\"videos_count\"],\"z\":[[1.0,0.8776270996333292,0.3290082597944345,0.3077649163228216,-0.013559855014480551],[0.8776270996333292,1.0,0.38800618415877564,0.35520521256391147,-0.021551422761154647],[0.3290082597944345,0.38800618415877564,1.0,0.10659884626424675,0.1279888460942182],[0.3077649163228216,0.35520521256391147,0.10659884626424675,1.0,0.05075760259591088],[-0.013559855014480551,-0.021551422761154647,0.1279888460942182,0.05075760259591088,1.0]],\"type\":\"heatmap\",\"xaxis\":\"x\",\"yaxis\":\"y\",\"hovertemplate\":\"x: %{x}\\u003cbr\\u003ey: %{y}\\u003cbr\\u003ecolor: %{z}\\u003cextra\\u003e\\u003c\\u002fextra\\u003e\"}],                        {\"template\":{\"data\":{\"histogram2dcontour\":[{\"type\":\"histogram2dcontour\",\"colorbar\":{\"outlinewidth\":0,\"ticks\":\"\"},\"colorscale\":[[0.0,\"#0d0887\"],[0.1111111111111111,\"#46039f\"],[0.2222222222222222,\"#7201a8\"],[0.3333333333333333,\"#9c179e\"],[0.4444444444444444,\"#bd3786\"],[0.5555555555555556,\"#d8576b\"],[0.6666666666666666,\"#ed7953\"],[0.7777777777777778,\"#fb9f3a\"],[0.8888888888888888,\"#fdca26\"],[1.0,\"#f0f921\"]]}],\"choropleth\":[{\"type\":\"choropleth\",\"colorbar\":{\"outlinewidth\":0,\"ticks\":\"\"}}],\"histogram2d\":[{\"type\":\"histogram2d\",\"colorbar\":{\"outlinewidth\":0,\"ticks\":\"\"},\"colorscale\":[[0.0,\"#0d0887\"],[0.1111111111111111,\"#46039f\"],[0.2222222222222222,\"#7201a8\"],[0.3333333333333333,\"#9c179e\"],[0.4444444444444444,\"#bd3786\"],[0.5555555555555556,\"#d8576b\"],[0.6666666666666666,\"#ed7953\"],[0.7777777777777778,\"#fb9f3a\"],[0.8888888888888888,\"#fdca26\"],[1.0,\"#f0f921\"]]}],\"heatmap\":[{\"type\":\"heatmap\",\"colorbar\":{\"outlinewidth\":0,\"ticks\":\"\"},\"colorscale\":[[0.0,\"#0d0887\"],[0.1111111111111111,\"#46039f\"],[0.2222222222222222,\"#7201a8\"],[0.3333333333333333,\"#9c179e\"],[0.4444444444444444,\"#bd3786\"],[0.5555555555555556,\"#d8576b\"],[0.6666666666666666,\"#ed7953\"],[0.7777777777777778,\"#fb9f3a\"],[0.8888888888888888,\"#fdca26\"],[1.0,\"#f0f921\"]]}],\"heatmapgl\":[{\"type\":\"heatmapgl\",\"colorbar\":{\"outlinewidth\":0,\"ticks\":\"\"},\"colorscale\":[[0.0,\"#0d0887\"],[0.1111111111111111,\"#46039f\"],[0.2222222222222222,\"#7201a8\"],[0.3333333333333333,\"#9c179e\"],[0.4444444444444444,\"#bd3786\"],[0.5555555555555556,\"#d8576b\"],[0.6666666666666666,\"#ed7953\"],[0.7777777777777778,\"#fb9f3a\"],[0.8888888888888888,\"#fdca26\"],[1.0,\"#f0f921\"]]}],\"contourcarpet\":[{\"type\":\"contourcarpet\",\"colorbar\":{\"outlinewidth\":0,\"ticks\":\"\"}}],\"contour\":[{\"type\":\"contour\",\"colorbar\":{\"outlinewidth\":0,\"ticks\":\"\"},\"colorscale\":[[0.0,\"#0d0887\"],[0.1111111111111111,\"#46039f\"],[0.2222222222222222,\"#7201a8\"],[0.3333333333333333,\"#9c179e\"],[0.4444444444444444,\"#bd3786\"],[0.5555555555555556,\"#d8576b\"],[0.6666666666666666,\"#ed7953\"],[0.7777777777777778,\"#fb9f3a\"],[0.8888888888888888,\"#fdca26\"],[1.0,\"#f0f921\"]]}],\"surface\":[{\"type\":\"surface\",\"colorbar\":{\"outlinewidth\":0,\"ticks\":\"\"},\"colorscale\":[[0.0,\"#0d0887\"],[0.1111111111111111,\"#46039f\"],[0.2222222222222222,\"#7201a8\"],[0.3333333333333333,\"#9c179e\"],[0.4444444444444444,\"#bd3786\"],[0.5555555555555556,\"#d8576b\"],[0.6666666666666666,\"#ed7953\"],[0.7777777777777778,\"#fb9f3a\"],[0.8888888888888888,\"#fdca26\"],[1.0,\"#f0f921\"]]}],\"mesh3d\":[{\"type\":\"mesh3d\",\"colorbar\":{\"outlinewidth\":0,\"ticks\":\"\"}}],\"scatter\":[{\"fillpattern\":{\"fillmode\":\"overlay\",\"size\":10,\"solidity\":0.2},\"type\":\"scatter\"}],\"parcoords\":[{\"type\":\"parcoords\",\"line\":{\"colorbar\":{\"outlinewidth\":0,\"ticks\":\"\"}}}],\"scatterpolargl\":[{\"type\":\"scatterpolargl\",\"marker\":{\"colorbar\":{\"outlinewidth\":0,\"ticks\":\"\"}}}],\"bar\":[{\"error_x\":{\"color\":\"#2a3f5f\"},\"error_y\":{\"color\":\"#2a3f5f\"},\"marker\":{\"line\":{\"color\":\"#E5ECF6\",\"width\":0.5},\"pattern\":{\"fillmode\":\"overlay\",\"size\":10,\"solidity\":0.2}},\"type\":\"bar\"}],\"scattergeo\":[{\"type\":\"scattergeo\",\"marker\":{\"colorbar\":{\"outlinewidth\":0,\"ticks\":\"\"}}}],\"scatterpolar\":[{\"type\":\"scatterpolar\",\"marker\":{\"colorbar\":{\"outlinewidth\":0,\"ticks\":\"\"}}}],\"histogram\":[{\"marker\":{\"pattern\":{\"fillmode\":\"overlay\",\"size\":10,\"solidity\":0.2}},\"type\":\"histogram\"}],\"scattergl\":[{\"type\":\"scattergl\",\"marker\":{\"colorbar\":{\"outlinewidth\":0,\"ticks\":\"\"}}}],\"scatter3d\":[{\"type\":\"scatter3d\",\"line\":{\"colorbar\":{\"outlinewidth\":0,\"ticks\":\"\"}},\"marker\":{\"colorbar\":{\"outlinewidth\":0,\"ticks\":\"\"}}}],\"scattermapbox\":[{\"type\":\"scattermapbox\",\"marker\":{\"colorbar\":{\"outlinewidth\":0,\"ticks\":\"\"}}}],\"scatterternary\":[{\"type\":\"scatterternary\",\"marker\":{\"colorbar\":{\"outlinewidth\":0,\"ticks\":\"\"}}}],\"scattercarpet\":[{\"type\":\"scattercarpet\",\"marker\":{\"colorbar\":{\"outlinewidth\":0,\"ticks\":\"\"}}}],\"carpet\":[{\"aaxis\":{\"endlinecolor\":\"#2a3f5f\",\"gridcolor\":\"white\",\"linecolor\":\"white\",\"minorgridcolor\":\"white\",\"startlinecolor\":\"#2a3f5f\"},\"baxis\":{\"endlinecolor\":\"#2a3f5f\",\"gridcolor\":\"white\",\"linecolor\":\"white\",\"minorgridcolor\":\"white\",\"startlinecolor\":\"#2a3f5f\"},\"type\":\"carpet\"}],\"table\":[{\"cells\":{\"fill\":{\"color\":\"#EBF0F8\"},\"line\":{\"color\":\"white\"}},\"header\":{\"fill\":{\"color\":\"#C8D4E3\"},\"line\":{\"color\":\"white\"}},\"type\":\"table\"}],\"barpolar\":[{\"marker\":{\"line\":{\"color\":\"#E5ECF6\",\"width\":0.5},\"pattern\":{\"fillmode\":\"overlay\",\"size\":10,\"solidity\":0.2}},\"type\":\"barpolar\"}],\"pie\":[{\"automargin\":true,\"type\":\"pie\"}]},\"layout\":{\"autotypenumbers\":\"strict\",\"colorway\":[\"#636efa\",\"#EF553B\",\"#00cc96\",\"#ab63fa\",\"#FFA15A\",\"#19d3f3\",\"#FF6692\",\"#B6E880\",\"#FF97FF\",\"#FECB52\"],\"font\":{\"color\":\"#2a3f5f\"},\"hovermode\":\"closest\",\"hoverlabel\":{\"align\":\"left\"},\"paper_bgcolor\":\"white\",\"plot_bgcolor\":\"#E5ECF6\",\"polar\":{\"bgcolor\":\"#E5ECF6\",\"angularaxis\":{\"gridcolor\":\"white\",\"linecolor\":\"white\",\"ticks\":\"\"},\"radialaxis\":{\"gridcolor\":\"white\",\"linecolor\":\"white\",\"ticks\":\"\"}},\"ternary\":{\"bgcolor\":\"#E5ECF6\",\"aaxis\":{\"gridcolor\":\"white\",\"linecolor\":\"white\",\"ticks\":\"\"},\"baxis\":{\"gridcolor\":\"white\",\"linecolor\":\"white\",\"ticks\":\"\"},\"caxis\":{\"gridcolor\":\"white\",\"linecolor\":\"white\",\"ticks\":\"\"}},\"coloraxis\":{\"colorbar\":{\"outlinewidth\":0,\"ticks\":\"\"}},\"colorscale\":{\"sequential\":[[0.0,\"#0d0887\"],[0.1111111111111111,\"#46039f\"],[0.2222222222222222,\"#7201a8\"],[0.3333333333333333,\"#9c179e\"],[0.4444444444444444,\"#bd3786\"],[0.5555555555555556,\"#d8576b\"],[0.6666666666666666,\"#ed7953\"],[0.7777777777777778,\"#fb9f3a\"],[0.8888888888888888,\"#fdca26\"],[1.0,\"#f0f921\"]],\"sequentialminus\":[[0.0,\"#0d0887\"],[0.1111111111111111,\"#46039f\"],[0.2222222222222222,\"#7201a8\"],[0.3333333333333333,\"#9c179e\"],[0.4444444444444444,\"#bd3786\"],[0.5555555555555556,\"#d8576b\"],[0.6666666666666666,\"#ed7953\"],[0.7777777777777778,\"#fb9f3a\"],[0.8888888888888888,\"#fdca26\"],[1.0,\"#f0f921\"]],\"diverging\":[[0,\"#8e0152\"],[0.1,\"#c51b7d\"],[0.2,\"#de77ae\"],[0.3,\"#f1b6da\"],[0.4,\"#fde0ef\"],[0.5,\"#f7f7f7\"],[0.6,\"#e6f5d0\"],[0.7,\"#b8e186\"],[0.8,\"#7fbc41\"],[0.9,\"#4d9221\"],[1,\"#276419\"]]},\"xaxis\":{\"gridcolor\":\"white\",\"linecolor\":\"white\",\"ticks\":\"\",\"title\":{\"standoff\":15},\"zerolinecolor\":\"white\",\"automargin\":true,\"zerolinewidth\":2},\"yaxis\":{\"gridcolor\":\"white\",\"linecolor\":\"white\",\"ticks\":\"\",\"title\":{\"standoff\":15},\"zerolinecolor\":\"white\",\"automargin\":true,\"zerolinewidth\":2},\"scene\":{\"xaxis\":{\"backgroundcolor\":\"#E5ECF6\",\"gridcolor\":\"white\",\"linecolor\":\"white\",\"showbackground\":true,\"ticks\":\"\",\"zerolinecolor\":\"white\",\"gridwidth\":2},\"yaxis\":{\"backgroundcolor\":\"#E5ECF6\",\"gridcolor\":\"white\",\"linecolor\":\"white\",\"showbackground\":true,\"ticks\":\"\",\"zerolinecolor\":\"white\",\"gridwidth\":2},\"zaxis\":{\"backgroundcolor\":\"#E5ECF6\",\"gridcolor\":\"white\",\"linecolor\":\"white\",\"showbackground\":true,\"ticks\":\"\",\"zerolinecolor\":\"white\",\"gridwidth\":2}},\"shapedefaults\":{\"line\":{\"color\":\"#2a3f5f\"}},\"annotationdefaults\":{\"arrowcolor\":\"#2a3f5f\",\"arrowhead\":0,\"arrowwidth\":1},\"geo\":{\"bgcolor\":\"white\",\"landcolor\":\"#E5ECF6\",\"subunitcolor\":\"white\",\"showland\":true,\"showlakes\":true,\"lakecolor\":\"white\"},\"title\":{\"x\":0.05},\"mapbox\":{\"style\":\"light\"}}},\"xaxis\":{\"anchor\":\"y\",\"domain\":[0.0,1.0],\"scaleanchor\":\"y\",\"constrain\":\"domain\"},\"yaxis\":{\"anchor\":\"x\",\"domain\":[0.0,1.0],\"autorange\":\"reversed\",\"constrain\":\"domain\"},\"coloraxis\":{\"colorscale\":[[0.0,\"rgb(5,48,97)\"],[0.1,\"rgb(33,102,172)\"],[0.2,\"rgb(67,147,195)\"],[0.3,\"rgb(146,197,222)\"],[0.4,\"rgb(209,229,240)\"],[0.5,\"rgb(247,247,247)\"],[0.6,\"rgb(253,219,199)\"],[0.7,\"rgb(244,165,130)\"],[0.8,\"rgb(214,96,77)\"],[0.9,\"rgb(178,24,43)\"],[1.0,\"rgb(103,0,31)\"]]},\"title\":{\"text\":\"Correlation Matrix for Numeric Metrics\"}},                        {\"responsive\": true}                    ).then(function(){\n",
       "                            \n",
       "var gd = document.getElementById('1211be2a-7781-4563-93c4-fe693d02e0e1');\n",
       "var x = new MutationObserver(function (mutations, observer) {{\n",
       "        var display = window.getComputedStyle(gd).display;\n",
       "        if (!display || display === 'none') {{\n",
       "            console.log([gd, 'removed!']);\n",
       "            Plotly.purge(gd);\n",
       "            observer.disconnect();\n",
       "        }}\n",
       "}});\n",
       "\n",
       "// Listen for the removal of the full notebook cells\n",
       "var notebookContainer = gd.closest('#notebook-container');\n",
       "if (notebookContainer) {{\n",
       "    x.observe(notebookContainer, {childList: true});\n",
       "}}\n",
       "\n",
       "// Listen for the clearing of the current output cell\n",
       "var outputEl = gd.closest('.output');\n",
       "if (outputEl) {{\n",
       "    x.observe(outputEl, {childList: true});\n",
       "}}\n",
       "\n",
       "                        })                };                });            </script>        </div>"
      ]
     },
     "metadata": {},
     "output_type": "display_data"
    }
   ],
   "source": [
    "import plotly.express as px\n",
    "\n",
    "numeric_cols = ['views', 'likes', 'comments', 'subscribers', 'videos_count']\n",
    "corr_matrix = df_cleaned[numeric_cols].corr()\n",
    "\n",
    "fig = px.imshow(\n",
    "    corr_matrix,\n",
    "    text_auto=True,\n",
    "    color_continuous_scale='RdBu_r',\n",
    "    title=\"Correlation Matrix for Numeric Metrics\"\n",
    ")\n",
    "fig.show()"
   ]
  },
  {
   "cell_type": "markdown",
   "id": "b512d0ba",
   "metadata": {},
   "source": [
    "Самая яркая зависимость — между просмотрами и лайками. Каналы с большим числом подписчиков чаще получают больше просмотров и лайков, но влияние не столь сильное. Количество видео на канале не даёт заметного вклада в популярность отдельных роликов."
   ]
  },
  {
   "cell_type": "markdown",
   "id": "ecc49b73",
   "metadata": {},
   "source": [
    "Теперь - займемся визуализацией распределений: построим гистограммы и ящики с усами"
   ]
  },
  {
   "cell_type": "code",
   "execution_count": 162,
   "id": "190f4faf",
   "metadata": {},
   "outputs": [
    {
     "data": {
      "image/png": "[encoded data removed]",
      "text/plain": [
       "<Figure size 1400x800 with 4 Axes>"
      ]
     },
     "metadata": {},
     "output_type": "display_data"
    },
    {
     "data": {
      "image/png": "[encoded data removed]",
      "text/plain": [
       "<Figure size 1400x800 with 4 Axes>"
      ]
     },
     "metadata": {},
     "output_type": "display_data"
    },
    {
     "data": {
      "image/png": "[encoded data removed]",
      "text/plain": [
       "<Figure size 1400x800 with 4 Axes>"
      ]
     },
     "metadata": {},
     "output_type": "display_data"
    },
    {
     "data": {
      "image/png": "[encoded data removed]",
      "text/plain": [
       "<Figure size 1400x800 with 4 Axes>"
      ]
     },
     "metadata": {},
     "output_type": "display_data"
    },
    {
     "data": {
      "image/png": "[encoded data removed]",
      "text/plain": [
       "<Figure size 1400x800 with 4 Axes>"
      ]
     },
     "metadata": {},
     "output_type": "display_data"
    }
   ],
   "source": [
    "import seaborn as sns\n",
    "import matplotlib.pyplot as plt\n",
    "\n",
    "numeric_cols = ['views', 'likes', 'comments', 'subscribers', 'videos_count']\n",
    "\n",
    "for col in numeric_cols:\n",
    "    # Создаём отдельное окно с 4 подграфиками (2 строки, 2 столбца)\n",
    "    fig, axes = plt.subplots(2, 2, figsize=(14, 8))\n",
    "\n",
    "    # Данные для Rutube\n",
    "    rutube_data = combined_df.loc[combined_df['source'] == 'Rutube', col].dropna()\n",
    "    # Данные для YouTube\n",
    "    youtube_data = combined_df.loc[combined_df['source'] == 'Youtube', col].dropna()\n",
    "\n",
    "    # --- 1) Гистограмма Rutube ---\n",
    "    sns.histplot(rutube_data, kde=True, bins=30, ax=axes[0, 0])\n",
    "    axes[0, 0].set_title(f\"Rutube: Histogram of {col}\")\n",
    "\n",
    "    # --- 2) Гистограмма YouTube ---\n",
    "    sns.histplot(youtube_data, kde=True, bins=30, ax=axes[0, 1])\n",
    "    axes[0, 1].set_title(f\"YouTube: Histogram of {col}\")\n",
    "\n",
    "    # --- 3) Boxplot Rutube ---\n",
    "    sns.boxplot(x=rutube_data, ax=axes[1, 0])\n",
    "    axes[1, 0].set_title(f\"Rutube: Boxplot of {col}\")\n",
    "\n",
    "    # --- 4) Boxplot YouTube ---\n",
    "    sns.boxplot(x=youtube_data, ax=axes[1, 1])\n",
    "    axes[1, 1].set_title(f\"YouTube: Boxplot of {col}\")\n",
    "\n",
    "    plt.tight_layout()\n",
    "    plt.show()"
   ]
  },
  {
   "cell_type": "markdown",
   "id": "0f5a645c",
   "metadata": {},
   "source": [
    "Без логарифмического преобразования не обойтись - при наличии очень больших значений (миллионы просмотров) и большого числа маленьких значений (несколько просмотров) логарифм «сжимает» масштаб и делает распределение более равномерным.\n",
    "\n",
    "После логарифмического преобразования видно, что все метрики (просмотры, лайки, комментарии, подписчики и количество видео) имеют широкий диапазон значений, но становятся ближе к нормальному распределению. У большинства наблюдений показатели относительно невысокие (сконцентрированы ближе к нижней границе), а высокие значения встречаются реже и выступают как выбросы. Самое большое «растяжение» распределения наблюдается для просмотров и лайков, что подтверждает, что у небольшого числа видео показатели очень высокие. Количество видео на канале (videos_count) распределено более равномерно, но всё равно имеет заметное число каналов с относительно большим числом роликов. В целом данные демонстрируют сильную скошенность в исходном масштабе и лучше интерпретируются после логарифмической шкалы."
   ]
  },
  {
   "cell_type": "code",
   "execution_count": null,
   "id": "40a68a0b",
   "metadata": {},
   "outputs": [],
   "source": []
  },
  {
   "cell_type": "code",
   "execution_count": null,
   "id": "920bbb1c",
   "metadata": {},
   "outputs": [],
   "source": []
  }
 ],
 "metadata": {
  "kernelspec": {
   "display_name": "Python 3 (ipykernel)",
   "language": "python",
   "name": "python3"
  },
  "language_info": {
   "codemirror_mode": {
    "name": "ipython",
    "version": 3
   },
   "file_extension": ".py",
   "mimetype": "text/x-python",
   "name": "python",
   "nbconvert_exporter": "python",
   "pygments_lexer": "ipython3",
   "version": "3.9.13"
  }
 },
 "nbformat": 4,
 "nbformat_minor": 5
}
