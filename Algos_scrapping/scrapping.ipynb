{
 "cells": [
  {
   "cell_type": "code",
   "execution_count": 22,
   "metadata": {},
   "outputs": [],
   "source": [
    "from bs4 import BeautifulSoup\n",
    "from selenium import webdriver\n",
    "from selenium.webdriver.support.ui import WebDriverWait"
   ]
  },
  {
   "cell_type": "code",
   "execution_count": 23,
   "metadata": {},
   "outputs": [],
   "source": [
    "url = 'https://rutube.ru/feeds/top/page-'"
   ]
  },
  {
   "cell_type": "code",
   "execution_count": 32,
   "metadata": {},
   "outputs": [],
   "source": [
    "options = webdriver.ChromeOptions()\n",
    "#options.add_argument('--headless') \n",
    "options.add_argument('--disable-gpu')\n",
    "options.add_argument('--blink-settings=imagesEnabled=false')\n",
    "options.add_argument(\"--window-size=2560,1440\")\n",
    "options.timeouts = { 'implicit': 5000 }\n",
    "\n",
    "videos = []\n",
    "\n",
    "driver = webdriver.Chrome(options=options)\n",
    "\n",
    "for i in range(1, 2):\n",
    "    driver.get(url + str(i) + '/')\n",
    "    driver.execute_script(\"window.scrollTo(0, document.body.scrollHeight);\")\n",
    "    page_source = WebDriverWait(driver, 30).until(lambda d: d.execute_script(\"return window.reduxState;\"))\n",
    "    videos.append(page_source['feed']['resources'][0]['items'])\n",
    "\n",
    "driver.close()"
   ]
  },
  {
   "cell_type": "code",
   "execution_count": 33,
   "metadata": {},
   "outputs": [],
   "source": [
    "videos_list = []"
   ]
  },
  {
   "cell_type": "code",
   "execution_count": 34,
   "metadata": {},
   "outputs": [],
   "source": [
    "for i in videos:\n",
    "    for j in i:\n",
    "        videos_list.append(j)"
   ]
  },
  {
   "cell_type": "code",
   "execution_count": 35,
   "metadata": {},
   "outputs": [
    {
     "data": {
      "text/plain": [
       "30"
      ]
     },
     "execution_count": 35,
     "metadata": {},
     "output_type": "execute_result"
    }
   ],
   "source": [
    "len(videos_list)"
   ]
  },
  {
   "cell_type": "code",
   "execution_count": 7,
   "metadata": {},
   "outputs": [
    {
     "ename": "IndexError",
     "evalue": "list index out of range",
     "output_type": "error",
     "traceback": [
      "\u001b[1;31m---------------------------------------------------------------------------\u001b[0m",
      "\u001b[1;31mIndexError\u001b[0m                                Traceback (most recent call last)",
      "Cell \u001b[1;32mIn[7], line 1\u001b[0m\n\u001b[1;32m----> 1\u001b[0m \u001b[43mvideos_list\u001b[49m\u001b[43m[\u001b[49m\u001b[38;5;241;43m0\u001b[39;49m\u001b[43m]\u001b[49m\n",
      "\u001b[1;31mIndexError\u001b[0m: list index out of range"
     ]
    }
   ],
   "source": [
    "videos_list[0]"
   ]
  },
  {
   "cell_type": "code",
   "execution_count": 8,
   "metadata": {},
   "outputs": [],
   "source": [
    "video_info = []\n",
    "for i in range (len(videos_list)):\n",
    "    data = [videos_list[i].get('author').get('id'),\n",
    "            videos_list[i].get('author').get('name'),\n",
    "            videos_list[i].get('category').get('name'),\n",
    "            videos_list[i].get('description'),\n",
    "            videos_list[i].get('duration'),\n",
    "            videos_list[i].get('hits'),\n",
    "            videos_list[i].get('publication_ts'),\n",
    "            videos_list[i].get('title'),\n",
    "            videos_list[i].get('video_url')]\n",
    "    video_info.append(data)\n"
   ]
  },
  {
   "cell_type": "code",
   "execution_count": 9,
   "metadata": {},
   "outputs": [],
   "source": [
    "import pandas as pd"
   ]
  },
  {
   "cell_type": "code",
   "execution_count": 10,
   "metadata": {},
   "outputs": [],
   "source": [
    "videos_rtb = pd.DataFrame(video_info, \n",
    "                      columns = ['author id',\n",
    "                                 'author name', \n",
    "                                 'category name', \n",
    "                                 'description', \n",
    "                                 'duration',\n",
    "                                 'hits',\n",
    "                                 'publication_ts',\n",
    "                                 'title',\n",
    "                                 'video_url'])"
   ]
  },
  {
   "cell_type": "code",
   "execution_count": 11,
   "metadata": {},
   "outputs": [
    {
     "data": {
      "application/vnd.microsoft.datawrangler.viewer.v0+json": {
       "columns": [
        {
         "name": "index",
         "rawType": "int64",
         "type": "integer"
        },
        {
         "name": "author id",
         "rawType": "object",
         "type": "string"
        },
        {
         "name": "author name",
         "rawType": "object",
         "type": "string"
        },
        {
         "name": "category name",
         "rawType": "object",
         "type": "string"
        },
        {
         "name": "description",
         "rawType": "object",
         "type": "string"
        },
        {
         "name": "duration",
         "rawType": "object",
         "type": "string"
        },
        {
         "name": "hits",
         "rawType": "object",
         "type": "string"
        },
        {
         "name": "publication_ts",
         "rawType": "object",
         "type": "string"
        },
        {
         "name": "title",
         "rawType": "object",
         "type": "string"
        },
        {
         "name": "video_url",
         "rawType": "object",
         "type": "string"
        }
       ],
       "conversionMethod": "pd.DataFrame",
       "ref": "d544d8c8-083e-48f9-ba3a-65be2d2c5f14",
       "rows": [],
       "shape": {
        "columns": 9,
        "rows": 0
       }
      },
      "text/html": [
       "<div>\n",
       "<style scoped>\n",
       "    .dataframe tbody tr th:only-of-type {\n",
       "        vertical-align: middle;\n",
       "    }\n",
       "\n",
       "    .dataframe tbody tr th {\n",
       "        vertical-align: top;\n",
       "    }\n",
       "\n",
       "    .dataframe thead th {\n",
       "        text-align: right;\n",
       "    }\n",
       "</style>\n",
       "<table border=\"1\" class=\"dataframe\">\n",
       "  <thead>\n",
       "    <tr style=\"text-align: right;\">\n",
       "      <th></th>\n",
       "      <th>author id</th>\n",
       "      <th>author name</th>\n",
       "      <th>category name</th>\n",
       "      <th>description</th>\n",
       "      <th>duration</th>\n",
       "      <th>hits</th>\n",
       "      <th>publication_ts</th>\n",
       "      <th>title</th>\n",
       "      <th>video_url</th>\n",
       "    </tr>\n",
       "  </thead>\n",
       "  <tbody>\n",
       "  </tbody>\n",
       "</table>\n",
       "</div>"
      ],
      "text/plain": [
       "Empty DataFrame\n",
       "Columns: [author id, author name, category name, description, duration, hits, publication_ts, title, video_url]\n",
       "Index: []"
      ]
     },
     "execution_count": 11,
     "metadata": {},
     "output_type": "execute_result"
    }
   ],
   "source": [
    "videos_rtb"
   ]
  },
  {
   "cell_type": "code",
   "execution_count": null,
   "metadata": {},
   "outputs": [],
   "source": []
  }
 ],
 "metadata": {
  "kernelspec": {
   "display_name": "Python 3",
   "language": "python",
   "name": "python3"
  },
  "language_info": {
   "codemirror_mode": {
    "name": "ipython",
    "version": 3
   },
   "file_extension": ".py",
   "mimetype": "text/x-python",
   "name": "python",
   "nbconvert_exporter": "python",
   "pygments_lexer": "ipython3",
   "version": "3.12.1"
  }
 },
 "nbformat": 4,
 "nbformat_minor": 2
}
