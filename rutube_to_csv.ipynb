{
 "cells": [
  {
   "cell_type": "code",
   "execution_count": 11,
   "metadata": {},
   "outputs": [
    {
     "data": {
      "text/plain": [
       "<module 'API.RutubeGetter' from 'd:\\\\HSE\\\\СМАДИМО\\\\gp2_github\\\\API\\\\RutubeGetter.py'>"
      ]
     },
     "execution_count": 11,
     "metadata": {},
     "output_type": "execute_result"
    }
   ],
   "source": [
    "import pandas as pd\n",
    "from importlib import reload\n",
    "import  API.RutubeGetter as rtb\n",
    "reload(rtb)"
   ]
  },
  {
   "cell_type": "code",
   "execution_count": 26,
   "metadata": {},
   "outputs": [],
   "source": [
    "chunk_from = 1\n",
    "chunk_to = 1"
   ]
  },
  {
   "cell_type": "code",
   "execution_count": null,
   "metadata": {},
   "outputs": [
    {
     "name": "stderr",
     "output_type": "stream",
     "text": [
      "2025-03-03 16:04:51,143 - INFO - Initializing parser\n",
      "2025-03-03 16:04:51,145 - INFO - Parsing main pages\n",
      "2025-03-03 16:04:57,766 - INFO - Progress: 100.00%\n",
      "2025-03-03 16:04:59,940 - INFO - Main pages parsed\n",
      "2025-03-03 16:04:59,945 - INFO - Fetching video info\n",
      "2025-03-03 16:05:11,217 - ERROR - Error processing video https://rutube.ru/video/60753c6c848f62b52ba8abb276af6983/: invalid literal for int() with base 10: 'У'. Restarting...\n",
      "2025-03-03 16:05:11,311 - ERROR - Error processing video https://rutube.ru/video/fa0c2ff8875959c909186075a57ca5a9/: invalid literal for int() with base 10: 'У'. Restarting...\n",
      "2025-03-03 16:05:12,163 - INFO - Processed video: https://rutube.ru/video/7a3e177674cf1dea4c69aba44ccb6519/\n",
      "2025-03-03 16:05:12,917 - INFO - Processed video: https://rutube.ru/video/5f6a81e8d99380286536263d06178bc1/\n",
      "2025-03-03 16:05:15,107 - ERROR - Error processing video https://rutube.ru/video/bd16bf6b22c8c3d429eb82a25cafbe49/: invalid literal for int() with base 10: 'У'. Restarting...\n",
      "2025-03-03 16:05:20,153 - ERROR - Error processing video https://rutube.ru/video/e0fccf918a2d7a13eeb9961a31b204b1/: invalid literal for int() with base 10: 'У'. Restarting...\n",
      "2025-03-03 16:05:21,172 - INFO - Processed video: https://rutube.ru/video/e98ab6fa8c3f4f2b5f939986b1beb9aa/\n",
      "2025-03-03 16:05:21,535 - INFO - Processed video: https://rutube.ru/video/18a8559015cabc8beb6e2e9db1b1649f/\n",
      "2025-03-03 16:05:24,164 - ERROR - Error processing video https://rutube.ru/video/a29bd9f1e564efc599a88435d2754f23/: invalid literal for int() with base 10: ''. Restarting...\n",
      "2025-03-03 16:05:24,992 - ERROR - Error processing video https://rutube.ru/video/9e84a56525d41806a085a715259886bb/: invalid literal for int() with base 10: 'У'. Restarting...\n",
      "2025-03-03 16:05:26,550 - ERROR - Error processing video https://rutube.ru/video/ba758e01ecac7bc8d16b95c79d30bebf/: invalid literal for int() with base 10: 'У'. Restarting...\n",
      "2025-03-03 16:05:29,083 - ERROR - Error processing video https://rutube.ru/video/fc654dfaa8e3401cbc1fcbddb9566496/: invalid literal for int() with base 10: 'У'. Restarting...\n",
      "2025-03-03 16:05:33,049 - ERROR - Error processing video https://rutube.ru/video/48a77654b5b1492f331bee442d9fcb17/: invalid literal for int() with base 10: 'У'. Restarting...\n",
      "2025-03-03 16:05:34,197 - INFO - Processed video: https://rutube.ru/video/f730282e1e8cca408f129f5e78d64e24/\n",
      "2025-03-03 16:05:34,982 - INFO - Processed video: https://rutube.ru/video/1f5daa5da56701dbf56c35f2860af69b/\n",
      "2025-03-03 16:05:36,705 - ERROR - Error processing video https://rutube.ru/video/a9c3ce262d217bab3f0c7cf7fd2483b5/: invalid literal for int() with base 10: 'У'. Restarting...\n",
      "2025-03-03 16:05:42,343 - ERROR - Error processing video https://rutube.ru/video/bc279a96383d2131178ce6faa9968d12/: invalid literal for int() with base 10: 'У'. Restarting...\n",
      "2025-03-03 16:05:42,681 - INFO - Processed video: https://rutube.ru/video/d4ab0806a6850f1095894bbefa3ab247/\n",
      "2025-03-03 16:05:45,941 - INFO - Processed video: https://rutube.ru/video/ccc36512c37f1afec4803a542eddc25a/\n",
      "2025-03-03 16:05:50,140 - INFO - Processed video: https://rutube.ru/video/49007d7e7123098d5b1ec12d84cddc7f/\n",
      "2025-03-03 16:05:53,071 - INFO - Processed video: https://rutube.ru/video/7ffc9c4ed54f3eefb79cc60d20e1a67e/\n",
      "2025-03-03 16:06:00,849 - INFO - Processed video: https://rutube.ru/video/06b8737681e00337a50cf7686377d1ef/\n",
      "2025-03-03 16:06:09,193 - INFO - Processed video: https://rutube.ru/video/1b59776d3e915ee79bf81b884b78eaea/\n",
      "2025-03-03 16:06:11,702 - INFO - Processed video: https://rutube.ru/video/faea31753fc85c30b861cb04d4c4c942/\n",
      "2025-03-03 16:06:18,588 - INFO - Processed video: https://rutube.ru/video/8cc5c245783224d10d17b1a36525d4e0/\n",
      "2025-03-03 16:06:19,347 - INFO - Processed video: https://rutube.ru/video/ba8e93785bfc73ae2efb0a3d5872ce44/\n",
      "2025-03-03 16:06:29,375 - INFO - Processed video: https://rutube.ru/video/f08dcb6e1175fe783c85d8453613aadd/\n",
      "2025-03-03 16:06:40,059 - INFO - Processed video: https://rutube.ru/video/23340c12e1f8834e3c573aec92a8352d/\n",
      "2025-03-03 16:06:45,964 - ERROR - Error processing video https://rutube.ru/video/e173c0fe993d56fc2bb031d5473038dc/: invalid literal for int() with base 10: ''. Restarting...\n",
      "2025-03-03 16:07:07,467 - INFO - Processed video: https://rutube.ru/video/960818d52b45c839953cfa9c0d10843b/\n",
      "2025-03-03 16:07:07,467 - INFO - Fetching channel info\n",
      "2025-03-03 16:07:08,844 - INFO - Processed channel: 1193367\n",
      "2025-03-03 16:07:08,879 - INFO - Processed channel: 23492116\n",
      "2025-03-03 16:07:09,129 - INFO - Processed channel: 23463954\n",
      "2025-03-03 16:07:09,746 - INFO - Processed channel: 23762839\n",
      "2025-03-03 16:07:10,221 - INFO - Processed channel: 26377482\n",
      "2025-03-03 16:07:17,030 - INFO - Processed channel: 32311072\n",
      "2025-03-03 16:07:17,072 - INFO - Processed channel: 23976754\n",
      "2025-03-03 16:07:17,119 - INFO - Processed channel: 23178409\n",
      "2025-03-03 16:07:18,368 - INFO - Processed channel: 8420540\n",
      "2025-03-03 16:07:18,399 - INFO - Processed channel: 818870\n",
      "2025-03-03 16:07:20,062 - INFO - Processed channel: 32774478\n",
      "2025-03-03 16:07:20,112 - INFO - Processed channel: 27157194\n",
      "2025-03-03 16:07:32,332 - INFO - Processed channel: 30276403\n",
      "2025-03-03 16:07:32,599 - INFO - Processed channel: 28627097\n",
      "2025-03-03 16:07:33,220 - INFO - Processed channel: 29745509\n",
      "2025-03-03 16:07:33,525 - INFO - Processed channel: 23340006\n",
      "2025-03-03 16:07:34,272 - INFO - Processed channel: 27141608\n",
      "2025-03-03 16:07:35,050 - INFO - Processed channel: 23550697\n",
      "2025-03-03 16:07:36,033 - INFO - Processed channel: 24488689\n",
      "2025-03-03 16:07:36,946 - INFO - Processed channel: 23501555\n",
      "2025-03-03 16:07:37,028 - INFO - Processed channel: 30334416\n",
      "2025-03-03 16:07:37,158 - INFO - Processed channel: 24300881\n",
      "2025-03-03 16:07:38,762 - INFO - Processed channel: 21014334\n"
     ]
    }
   ],
   "source": [
    "rtb_vid = rtb.RutubeGetter(chunk_from,chunk_to)"
   ]
  },
  {
   "cell_type": "code",
   "execution_count": 20,
   "metadata": {},
   "outputs": [],
   "source": [
    "videos = rtb_vid.get_videos()"
   ]
  },
  {
   "cell_type": "code",
   "execution_count": 21,
   "metadata": {},
   "outputs": [],
   "source": [
    "channels = rtb_vid.get_channels_info()"
   ]
  },
  {
   "cell_type": "code",
   "execution_count": 22,
   "metadata": {},
   "outputs": [],
   "source": [
    "likes = rtb_vid.get_videos_info()"
   ]
  },
  {
   "cell_type": "code",
   "execution_count": 23,
   "metadata": {},
   "outputs": [],
   "source": [
    "df_full = videos.merge(channels , how = 'left',left_on = 'author id', right_on = 'channel_id', suffixes=['_vid', '_ch'])"
   ]
  },
  {
   "cell_type": "code",
   "execution_count": 24,
   "metadata": {},
   "outputs": [],
   "source": [
    "df_full = df_full.merge(likes, how = 'left', left_on = 'video_url', right_on = 'url')"
   ]
  },
  {
   "cell_type": "code",
   "execution_count": 27,
   "metadata": {},
   "outputs": [],
   "source": [
    "df_full.to_csv(f'rutube_videos_pages({chunk_from},{chunk_to}).csv')"
   ]
  }
 ],
 "metadata": {
  "kernelspec": {
   "display_name": "Python 3",
   "language": "python",
   "name": "python3"
  },
  "language_info": {
   "codemirror_mode": {
    "name": "ipython",
    "version": 3
   },
   "file_extension": ".py",
   "mimetype": "text/x-python",
   "name": "python",
   "nbconvert_exporter": "python",
   "pygments_lexer": "ipython3",
   "version": "3.12.1"
  }
 },
 "nbformat": 4,
 "nbformat_minor": 2
}
