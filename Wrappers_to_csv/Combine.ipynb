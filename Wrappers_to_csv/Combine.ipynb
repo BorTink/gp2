{
 "cells": [
  {
   "cell_type": "code",
   "execution_count": 10,
   "id": "8b47af06",
   "metadata": {},
   "outputs": [
    {
     "name": "stderr",
     "output_type": "stream",
     "text": [
      "2025-03-04 11:58:15,025 - INFO - rutube_videos_pages(1,1).csv был добавлен в общий файл\n",
      "2025-03-04 11:58:15,031 - INFO - rutube_videos_pages(1,10).csv был добавлен в общий файл\n",
      "2025-03-04 11:58:15,035 - INFO - rutube_videos_pages(11,20).csv был добавлен в общий файл\n",
      "2025-03-04 11:58:15,103 - INFO - rutube_videos_pages(121,180).csv был добавлен в общий файл\n",
      "2025-03-04 11:58:15,122 - INFO - rutube_videos_pages(181,190).csv был добавлен в общий файл\n",
      "2025-03-04 11:58:15,172 - INFO - rutube_videos_pages(191,200).csv был добавлен в общий файл\n",
      "2025-03-04 11:58:15,198 - INFO - rutube_videos_pages(201,210).csv был добавлен в общий файл\n",
      "2025-03-04 11:58:15,228 - INFO - rutube_videos_pages(21,30).csv был добавлен в общий файл\n",
      "2025-03-04 11:58:15,272 - INFO - rutube_videos_pages(211,220).csv был добавлен в общий файл\n",
      "2025-03-04 11:58:15,368 - INFO - rutube_videos_pages(221,230).csv был добавлен в общий файл\n",
      "2025-03-04 11:58:15,397 - INFO - rutube_videos_pages(231,240).csv был добавлен в общий файл\n",
      "2025-03-04 11:58:15,443 - INFO - rutube_videos_pages(241,250).csv был добавлен в общий файл\n",
      "2025-03-04 11:58:15,519 - INFO - rutube_videos_pages(251,260).csv был добавлен в общий файл\n",
      "2025-03-04 11:58:15,631 - INFO - rutube_videos_pages(261,270).csv был добавлен в общий файл\n",
      "2025-03-04 11:58:15,784 - INFO - rutube_videos_pages(271,280).csv был добавлен в общий файл\n",
      "2025-03-04 11:58:15,968 - INFO - rutube_videos_pages(281,290).csv был добавлен в общий файл\n",
      "2025-03-04 11:58:16,187 - INFO - rutube_videos_pages(291,300).csv был добавлен в общий файл\n",
      "2025-03-04 11:58:16,274 - INFO - rutube_videos_pages(41,50).csv был добавлен в общий файл\n",
      "2025-03-04 11:58:16,370 - INFO - rutube_videos_pages(51,60).csv был добавлен в общий файл\n"
     ]
    },
    {
     "name": "stdout",
     "output_type": "stream",
     "text": [
      "Все CSV-файлы объединены в rutube_videos_data.csv\n"
     ]
    }
   ],
   "source": [
    "import os\n",
    "import pandas as pd\n",
    "import logging\n",
    "\n",
    "logger = logging.getLogger(__name__)\n",
    "logging.basicConfig(level=logging.INFO, format='%(asctime)s - %(levelname)s - %(message)s')\n",
    "\n",
    "# Получаем путь к scrapped_videos_csv\n",
    "current_directory = os.getcwd()\n",
    "parent = os.path.dirname(current_directory)\n",
    "\n",
    "directory = parent + '\\Scrapped_videos_csv'\n",
    "\n",
    "# Создайте пустой DataFrame для объединения данных\n",
    "rutube_df = pd.DataFrame()\n",
    "\n",
    "# Пройдитесь по всем файлам в директории\n",
    "for filename in os.listdir(directory):\n",
    "    if filename.endswith(\".csv\") and filename not in [\"rutube_videos_data.csv\", \"all_videos_data.csv\", \"all_videos_data_no_duplicates.csv\", \"youtube_videos_data.csv\"]:\n",
    "        # Полный путь к файлу\n",
    "        file_path = os.path.join(directory, filename)\n",
    "        \n",
    "        # Прочитайте CSV-файл\n",
    "        df = pd.read_csv(file_path)\n",
    "        \n",
    "        # Добавьте данные в общий DataFrame\n",
    "        rutube_df = pd.concat([rutube_df, df], ignore_index=True)\n",
    "        logger.info(f'{filename} был добавлен в общий файл')\n",
    "\n",
    "# Сохраните объединенный DataFrame в новый CSV-файл\n",
    "output_file = 'rutube_videos_data.csv'\n",
    "rutube_df.to_csv(directory + '\\\\' + output_file, index=False)\n",
    "\n",
    "print(f\"Все CSV-файлы объединены в {output_file}\")"
   ]
  },
  {
   "cell_type": "code",
   "execution_count": 18,
   "id": "83c0adcd",
   "metadata": {},
   "outputs": [
    {
     "name": "stderr",
     "output_type": "stream",
     "text": [
      "2025-03-04 12:00:32,868 - INFO - Объединённый датасет создан. Его размер: (61175, 16)\n"
     ]
    }
   ],
   "source": [
    "# Читаем YouTube-данные\n",
    "youtube_df = pd.read_csv(\n",
    "    directory + '\\\\' + 'youtube_videos_data.csv',\n",
    "    encoding='utf-8'\n",
    ")\n",
    "\n",
    "# Обрабатываем Rutube\n",
    "rutube_processed = pd.DataFrame({\n",
    "    \"video_id\": rutube_df[\"video_url\"],\n",
    "    \"video_title\": rutube_df[\"title\"],\n",
    "    \"description\": rutube_df[\"description\"],\n",
    "    \"published_at\": rutube_df[\"publication_ts\"],\n",
    "    \"views\": rutube_df[\"hits\"],\n",
    "    \"likes\": rutube_df[\"likes_count\"],\n",
    "    \"comments\": rutube_df[\"comments_count\"],\n",
    "    \"category\": rutube_df[\"category name\"],\n",
    "    \"channel_id\": rutube_df[\"author id\"],\n",
    "    \"channel_name\": rutube_df[\"author name\"],\n",
    "    \"subscribers\": rutube_df[\"total_subs\"],\n",
    "    \"channel_description\": rutube_df[\"channel_desc\"],\n",
    "    \"videos_count\": rutube_df[\"num_of_videos\"],\n",
    "    \"source\": \"Rutube\"\n",
    "})\n",
    "\n",
    "# Обрабатываем YouTube\n",
    "youtube_processed = pd.DataFrame({\n",
    "    \"video_id\": youtube_df[\"id_vid\"],\n",
    "    \"video_title\": youtube_df[\"title_vid\"],\n",
    "    \"description\": youtube_df[\"description_vid\"],\n",
    "    \"published_at\": youtube_df[\"publishedAt_vid\"],\n",
    "    \"views\": youtube_df[\"viewCount_vid\"],\n",
    "    \"likes\": youtube_df[\"likeCount\"],\n",
    "    \"comments\": youtube_df[\"commentCount\"],\n",
    "    \"category\": youtube_df[\"category\"],\n",
    "    \"channel_id\": youtube_df[\"channelId\"],\n",
    "    \"channel_name\": youtube_df[\"channelTitle\"],\n",
    "    \"subscribers\": youtube_df[\"subscriberCount\"],\n",
    "    \"channel_description\": youtube_df[\"description_ch\"],\n",
    "    \"videos_count\": youtube_df[\"videoCount\"],\n",
    "    \"comments_likes\": youtube_df[\"comments_likes\"],\n",
    "    \"tags\": youtube_df[\"tags\"],\n",
    "    \"source\": \"Youtube\"\n",
    "})\n",
    "\n",
    "# Объединяем\n",
    "all_videos_df = pd.concat([rutube_processed, youtube_processed], ignore_index=True)\n",
    "\n",
    "all_videos_df.to_csv(directory + '\\\\' + \"all_videos_data.csv\", index=False)\n",
    "\n",
    "logger.info(f\"Объединённый датасет создан. Его размер: {all_videos_df.shape}\")"
   ]
  },
  {
   "cell_type": "code",
   "execution_count": 19,
   "id": "e6d22c33",
   "metadata": {},
   "outputs": [
    {
     "name": "stderr",
     "output_type": "stream",
     "text": [
      "2025-03-04 12:00:46,190 - INFO - Датасет был очищен от дубликатов. Его размер: (9360, 16)\n"
     ]
    }
   ],
   "source": [
    "df_no_duplicates = all_videos_df.drop_duplicates(subset=['video_id'])\n",
    "logger.info(f\"Датасет был очищен от дубликатов. Его размер: {df_no_duplicates.shape}\")\n",
    "df_no_duplicates.to_csv(directory + '\\\\' + \"all_videos_data_no_duplicates.csv\", index=False)"
   ]
  },
  {
   "cell_type": "code",
   "execution_count": null,
   "id": "263aff11",
   "metadata": {},
   "outputs": [],
   "source": []
  }
 ],
 "metadata": {
  "kernelspec": {
   "display_name": "Python 3 (ipykernel)",
   "language": "python",
   "name": "python3"
  },
  "language_info": {
   "codemirror_mode": {
    "name": "ipython",
    "version": 3
   },
   "file_extension": ".py",
   "mimetype": "text/x-python",
   "name": "python",
   "nbconvert_exporter": "python",
   "pygments_lexer": "ipython3",
   "version": "3.9.13"
  }
 },
 "nbformat": 4,
 "nbformat_minor": 5
}
